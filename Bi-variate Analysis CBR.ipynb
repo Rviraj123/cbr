{
 "cells": [
  {
   "cell_type": "markdown",
   "id": "4755abff",
   "metadata": {},
   "source": [
    "# continuous-continuous variable"
   ]
  },
  {
   "cell_type": "code",
   "execution_count": 42,
   "id": "9c516bc1",
   "metadata": {},
   "outputs": [],
   "source": [
    "import pandas as pd\n",
    "import numpy as np\n",
    "import matplotlib.pyplot as plt\n",
    "%matplotlib inline"
   ]
  },
  {
   "cell_type": "code",
   "execution_count": 43,
   "id": "0e746dae",
   "metadata": {},
   "outputs": [
    {
     "data": {
      "text/plain": [
       "(123, 12)"
      ]
     },
     "execution_count": 43,
     "metadata": {},
     "output_type": "execute_result"
    }
   ],
   "source": [
    "data=pd.read_excel('s2cbr.xlsx')\n",
    "data.shape"
   ]
  },
  {
   "cell_type": "code",
   "execution_count": 44,
   "id": "4a0cb2f3",
   "metadata": {},
   "outputs": [
    {
     "data": {
      "text/plain": [
       "LL                int64\n",
       "PL                int64\n",
       "PI              float64\n",
       "OMC             float64\n",
       "MDD             float64\n",
       "TS              float64\n",
       "P1              float64\n",
       "P2              float64\n",
       "P3              float64\n",
       "P4              float64\n",
       "NO. OF LAYER      int64\n",
       "CBR             float64\n",
       "dtype: object"
      ]
     },
     "execution_count": 44,
     "metadata": {},
     "output_type": "execute_result"
    }
   ],
   "source": [
    "data.dtypes"
   ]
  },
  {
   "cell_type": "code",
   "execution_count": 45,
   "id": "a15a9094",
   "metadata": {},
   "outputs": [
    {
     "data": {
      "text/html": [
       "<div>\n",
       "<style scoped>\n",
       "    .dataframe tbody tr th:only-of-type {\n",
       "        vertical-align: middle;\n",
       "    }\n",
       "\n",
       "    .dataframe tbody tr th {\n",
       "        vertical-align: top;\n",
       "    }\n",
       "\n",
       "    .dataframe thead th {\n",
       "        text-align: right;\n",
       "    }\n",
       "</style>\n",
       "<table border=\"1\" class=\"dataframe\">\n",
       "  <thead>\n",
       "    <tr style=\"text-align: right;\">\n",
       "      <th></th>\n",
       "      <th>LL</th>\n",
       "      <th>PL</th>\n",
       "      <th>PI</th>\n",
       "      <th>OMC</th>\n",
       "      <th>MDD</th>\n",
       "      <th>TS</th>\n",
       "      <th>P1</th>\n",
       "      <th>P2</th>\n",
       "      <th>P3</th>\n",
       "      <th>P4</th>\n",
       "      <th>NO. OF LAYER</th>\n",
       "      <th>CBR</th>\n",
       "    </tr>\n",
       "  </thead>\n",
       "  <tbody>\n",
       "    <tr>\n",
       "      <th>0</th>\n",
       "      <td>0</td>\n",
       "      <td>0</td>\n",
       "      <td>0.0</td>\n",
       "      <td>11.0</td>\n",
       "      <td>3.36</td>\n",
       "      <td>20.0</td>\n",
       "      <td>0.0</td>\n",
       "      <td>0.0</td>\n",
       "      <td>0.8</td>\n",
       "      <td>0.0</td>\n",
       "      <td>1</td>\n",
       "      <td>103.0</td>\n",
       "    </tr>\n",
       "    <tr>\n",
       "      <th>1</th>\n",
       "      <td>0</td>\n",
       "      <td>0</td>\n",
       "      <td>0.0</td>\n",
       "      <td>10.0</td>\n",
       "      <td>5.36</td>\n",
       "      <td>20.0</td>\n",
       "      <td>0.0</td>\n",
       "      <td>0.5</td>\n",
       "      <td>0.0</td>\n",
       "      <td>0.0</td>\n",
       "      <td>1</td>\n",
       "      <td>74.0</td>\n",
       "    </tr>\n",
       "    <tr>\n",
       "      <th>2</th>\n",
       "      <td>0</td>\n",
       "      <td>0</td>\n",
       "      <td>0.0</td>\n",
       "      <td>10.0</td>\n",
       "      <td>4.83</td>\n",
       "      <td>20.0</td>\n",
       "      <td>0.0</td>\n",
       "      <td>0.0</td>\n",
       "      <td>0.8</td>\n",
       "      <td>0.0</td>\n",
       "      <td>1</td>\n",
       "      <td>104.0</td>\n",
       "    </tr>\n",
       "    <tr>\n",
       "      <th>3</th>\n",
       "      <td>0</td>\n",
       "      <td>0</td>\n",
       "      <td>0.0</td>\n",
       "      <td>11.0</td>\n",
       "      <td>4.98</td>\n",
       "      <td>20.0</td>\n",
       "      <td>0.0</td>\n",
       "      <td>0.5</td>\n",
       "      <td>0.0</td>\n",
       "      <td>0.0</td>\n",
       "      <td>1</td>\n",
       "      <td>75.0</td>\n",
       "    </tr>\n",
       "    <tr>\n",
       "      <th>4</th>\n",
       "      <td>0</td>\n",
       "      <td>0</td>\n",
       "      <td>0.0</td>\n",
       "      <td>12.0</td>\n",
       "      <td>3.97</td>\n",
       "      <td>20.0</td>\n",
       "      <td>0.0</td>\n",
       "      <td>0.0</td>\n",
       "      <td>0.8</td>\n",
       "      <td>0.0</td>\n",
       "      <td>1</td>\n",
       "      <td>105.0</td>\n",
       "    </tr>\n",
       "  </tbody>\n",
       "</table>\n",
       "</div>"
      ],
      "text/plain": [
       "   LL  PL   PI   OMC   MDD    TS   P1   P2   P3   P4  NO. OF LAYER    CBR\n",
       "0   0   0  0.0  11.0  3.36  20.0  0.0  0.0  0.8  0.0             1  103.0\n",
       "1   0   0  0.0  10.0  5.36  20.0  0.0  0.5  0.0  0.0             1   74.0\n",
       "2   0   0  0.0  10.0  4.83  20.0  0.0  0.0  0.8  0.0             1  104.0\n",
       "3   0   0  0.0  11.0  4.98  20.0  0.0  0.5  0.0  0.0             1   75.0\n",
       "4   0   0  0.0  12.0  3.97  20.0  0.0  0.0  0.8  0.0             1  105.0"
      ]
     },
     "execution_count": 45,
     "metadata": {},
     "output_type": "execute_result"
    }
   ],
   "source": [
    "data.head()"
   ]
  },
  {
   "cell_type": "code",
   "execution_count": 46,
   "id": "b884e845",
   "metadata": {},
   "outputs": [
    {
     "data": {
      "text/plain": [
       "<AxesSubplot:xlabel='LL', ylabel='PL'>"
      ]
     },
     "execution_count": 46,
     "metadata": {},
     "output_type": "execute_result"
    },
    {
     "data": {
      "image/png": "[encoded data removed]",
      "text/plain": [
       "<Figure size 432x288 with 1 Axes>"
      ]
     },
     "metadata": {
      "needs_background": "light"
     },
     "output_type": "display_data"
    }
   ],
   "source": [
    "data.plot.scatter('LL','PL')"
   ]
  },
  {
   "cell_type": "code",
   "execution_count": 47,
   "id": "2d053a08",
   "metadata": {},
   "outputs": [
    {
     "data": {
      "text/html": [
       "<div>\n",
       "<style scoped>\n",
       "    .dataframe tbody tr th:only-of-type {\n",
       "        vertical-align: middle;\n",
       "    }\n",
       "\n",
       "    .dataframe tbody tr th {\n",
       "        vertical-align: top;\n",
       "    }\n",
       "\n",
       "    .dataframe thead th {\n",
       "        text-align: right;\n",
       "    }\n",
       "</style>\n",
       "<table border=\"1\" class=\"dataframe\">\n",
       "  <thead>\n",
       "    <tr style=\"text-align: right;\">\n",
       "      <th></th>\n",
       "      <th>LL</th>\n",
       "      <th>PL</th>\n",
       "      <th>PI</th>\n",
       "      <th>OMC</th>\n",
       "      <th>MDD</th>\n",
       "      <th>TS</th>\n",
       "      <th>P1</th>\n",
       "      <th>P2</th>\n",
       "      <th>P3</th>\n",
       "      <th>P4</th>\n",
       "      <th>NO. OF LAYER</th>\n",
       "      <th>CBR</th>\n",
       "    </tr>\n",
       "  </thead>\n",
       "  <tbody>\n",
       "    <tr>\n",
       "      <th>LL</th>\n",
       "      <td>1.000000</td>\n",
       "      <td>0.955833</td>\n",
       "      <td>0.877665</td>\n",
       "      <td>0.673352</td>\n",
       "      <td>0.263396</td>\n",
       "      <td>-0.228141</td>\n",
       "      <td>0.056742</td>\n",
       "      <td>0.085204</td>\n",
       "      <td>0.230475</td>\n",
       "      <td>0.556956</td>\n",
       "      <td>0.531952</td>\n",
       "      <td>-0.612217</td>\n",
       "    </tr>\n",
       "    <tr>\n",
       "      <th>PL</th>\n",
       "      <td>0.955833</td>\n",
       "      <td>1.000000</td>\n",
       "      <td>0.711459</td>\n",
       "      <td>0.517700</td>\n",
       "      <td>0.142115</td>\n",
       "      <td>-0.167341</td>\n",
       "      <td>-0.068320</td>\n",
       "      <td>-0.014945</td>\n",
       "      <td>0.193617</td>\n",
       "      <td>0.430939</td>\n",
       "      <td>0.370312</td>\n",
       "      <td>-0.589930</td>\n",
       "    </tr>\n",
       "    <tr>\n",
       "      <th>PI</th>\n",
       "      <td>0.877665</td>\n",
       "      <td>0.711459</td>\n",
       "      <td>1.000000</td>\n",
       "      <td>0.733098</td>\n",
       "      <td>0.412258</td>\n",
       "      <td>-0.363277</td>\n",
       "      <td>0.214344</td>\n",
       "      <td>0.209390</td>\n",
       "      <td>0.232768</td>\n",
       "      <td>0.605709</td>\n",
       "      <td>0.657379</td>\n",
       "      <td>-0.523521</td>\n",
       "    </tr>\n",
       "    <tr>\n",
       "      <th>OMC</th>\n",
       "      <td>0.673352</td>\n",
       "      <td>0.517700</td>\n",
       "      <td>0.733098</td>\n",
       "      <td>1.000000</td>\n",
       "      <td>0.211319</td>\n",
       "      <td>-0.354836</td>\n",
       "      <td>0.142954</td>\n",
       "      <td>0.289193</td>\n",
       "      <td>0.419468</td>\n",
       "      <td>0.921019</td>\n",
       "      <td>0.863287</td>\n",
       "      <td>-0.385111</td>\n",
       "    </tr>\n",
       "    <tr>\n",
       "      <th>MDD</th>\n",
       "      <td>0.263396</td>\n",
       "      <td>0.142115</td>\n",
       "      <td>0.412258</td>\n",
       "      <td>0.211319</td>\n",
       "      <td>1.000000</td>\n",
       "      <td>0.077182</td>\n",
       "      <td>0.507335</td>\n",
       "      <td>0.105259</td>\n",
       "      <td>-0.164345</td>\n",
       "      <td>0.112186</td>\n",
       "      <td>0.294382</td>\n",
       "      <td>-0.210437</td>\n",
       "    </tr>\n",
       "    <tr>\n",
       "      <th>TS</th>\n",
       "      <td>-0.228141</td>\n",
       "      <td>-0.167341</td>\n",
       "      <td>-0.363277</td>\n",
       "      <td>-0.354836</td>\n",
       "      <td>0.077182</td>\n",
       "      <td>1.000000</td>\n",
       "      <td>0.087711</td>\n",
       "      <td>-0.072444</td>\n",
       "      <td>-0.164690</td>\n",
       "      <td>-0.376169</td>\n",
       "      <td>-0.317489</td>\n",
       "      <td>0.123267</td>\n",
       "    </tr>\n",
       "    <tr>\n",
       "      <th>P1</th>\n",
       "      <td>0.056742</td>\n",
       "      <td>-0.068320</td>\n",
       "      <td>0.214344</td>\n",
       "      <td>0.142954</td>\n",
       "      <td>0.507335</td>\n",
       "      <td>0.087711</td>\n",
       "      <td>1.000000</td>\n",
       "      <td>-0.011057</td>\n",
       "      <td>-0.292360</td>\n",
       "      <td>0.034211</td>\n",
       "      <td>0.103531</td>\n",
       "      <td>-0.192754</td>\n",
       "    </tr>\n",
       "    <tr>\n",
       "      <th>P2</th>\n",
       "      <td>0.085204</td>\n",
       "      <td>-0.014945</td>\n",
       "      <td>0.209390</td>\n",
       "      <td>0.289193</td>\n",
       "      <td>0.105259</td>\n",
       "      <td>-0.072444</td>\n",
       "      <td>-0.011057</td>\n",
       "      <td>1.000000</td>\n",
       "      <td>-0.010382</td>\n",
       "      <td>0.265614</td>\n",
       "      <td>0.506816</td>\n",
       "      <td>-0.189407</td>\n",
       "    </tr>\n",
       "    <tr>\n",
       "      <th>P3</th>\n",
       "      <td>0.230475</td>\n",
       "      <td>0.193617</td>\n",
       "      <td>0.232768</td>\n",
       "      <td>0.419468</td>\n",
       "      <td>-0.164345</td>\n",
       "      <td>-0.164690</td>\n",
       "      <td>-0.292360</td>\n",
       "      <td>-0.010382</td>\n",
       "      <td>1.000000</td>\n",
       "      <td>0.474920</td>\n",
       "      <td>0.541317</td>\n",
       "      <td>-0.009959</td>\n",
       "    </tr>\n",
       "    <tr>\n",
       "      <th>P4</th>\n",
       "      <td>0.556956</td>\n",
       "      <td>0.430939</td>\n",
       "      <td>0.605709</td>\n",
       "      <td>0.921019</td>\n",
       "      <td>0.112186</td>\n",
       "      <td>-0.376169</td>\n",
       "      <td>0.034211</td>\n",
       "      <td>0.265614</td>\n",
       "      <td>0.474920</td>\n",
       "      <td>1.000000</td>\n",
       "      <td>0.878399</td>\n",
       "      <td>-0.255755</td>\n",
       "    </tr>\n",
       "    <tr>\n",
       "      <th>NO. OF LAYER</th>\n",
       "      <td>0.531952</td>\n",
       "      <td>0.370312</td>\n",
       "      <td>0.657379</td>\n",
       "      <td>0.863287</td>\n",
       "      <td>0.294382</td>\n",
       "      <td>-0.317489</td>\n",
       "      <td>0.103531</td>\n",
       "      <td>0.506816</td>\n",
       "      <td>0.541317</td>\n",
       "      <td>0.878399</td>\n",
       "      <td>1.000000</td>\n",
       "      <td>-0.324908</td>\n",
       "    </tr>\n",
       "    <tr>\n",
       "      <th>CBR</th>\n",
       "      <td>-0.612217</td>\n",
       "      <td>-0.589930</td>\n",
       "      <td>-0.523521</td>\n",
       "      <td>-0.385111</td>\n",
       "      <td>-0.210437</td>\n",
       "      <td>0.123267</td>\n",
       "      <td>-0.192754</td>\n",
       "      <td>-0.189407</td>\n",
       "      <td>-0.009959</td>\n",
       "      <td>-0.255755</td>\n",
       "      <td>-0.324908</td>\n",
       "      <td>1.000000</td>\n",
       "    </tr>\n",
       "  </tbody>\n",
       "</table>\n",
       "</div>"
      ],
      "text/plain": [
       "                    LL        PL        PI       OMC       MDD        TS  \\\n",
       "LL            1.000000  0.955833  0.877665  0.673352  0.263396 -0.228141   \n",
       "PL            0.955833  1.000000  0.711459  0.517700  0.142115 -0.167341   \n",
       "PI            0.877665  0.711459  1.000000  0.733098  0.412258 -0.363277   \n",
       "OMC           0.673352  0.517700  0.733098  1.000000  0.211319 -0.354836   \n",
       "MDD           0.263396  0.142115  0.412258  0.211319  1.000000  0.077182   \n",
       "TS           -0.228141 -0.167341 -0.363277 -0.354836  0.077182  1.000000   \n",
       "P1            0.056742 -0.068320  0.214344  0.142954  0.507335  0.087711   \n",
       "P2            0.085204 -0.014945  0.209390  0.289193  0.105259 -0.072444   \n",
       "P3            0.230475  0.193617  0.232768  0.419468 -0.164345 -0.164690   \n",
       "P4            0.556956  0.430939  0.605709  0.921019  0.112186 -0.376169   \n",
       "NO. OF LAYER  0.531952  0.370312  0.657379  0.863287  0.294382 -0.317489   \n",
       "CBR          -0.612217 -0.589930 -0.523521 -0.385111 -0.210437  0.123267   \n",
       "\n",
       "                    P1        P2        P3        P4  NO. OF LAYER       CBR  \n",
       "LL            0.056742  0.085204  0.230475  0.556956      0.531952 -0.612217  \n",
       "PL           -0.068320 -0.014945  0.193617  0.430939      0.370312 -0.589930  \n",
       "PI            0.214344  0.209390  0.232768  0.605709      0.657379 -0.523521  \n",
       "OMC           0.142954  0.289193  0.419468  0.921019      0.863287 -0.385111  \n",
       "MDD           0.507335  0.105259 -0.164345  0.112186      0.294382 -0.210437  \n",
       "TS            0.087711 -0.072444 -0.164690 -0.376169     -0.317489  0.123267  \n",
       "P1            1.000000 -0.011057 -0.292360  0.034211      0.103531 -0.192754  \n",
       "P2           -0.011057  1.000000 -0.010382  0.265614      0.506816 -0.189407  \n",
       "P3           -0.292360 -0.010382  1.000000  0.474920      0.541317 -0.009959  \n",
       "P4            0.034211  0.265614  0.474920  1.000000      0.878399 -0.255755  \n",
       "NO. OF LAYER  0.103531  0.506816  0.541317  0.878399      1.000000 -0.324908  \n",
       "CBR          -0.192754 -0.189407 -0.009959 -0.255755     -0.324908  1.000000  "
      ]
     },
     "execution_count": 47,
     "metadata": {},
     "output_type": "execute_result"
    }
   ],
   "source": [
    "data.corr()"
   ]
  },
  {
   "cell_type": "code",
   "execution_count": 48,
   "id": "8a3861b2",
   "metadata": {},
   "outputs": [
    {
     "data": {
      "text/plain": [
       "0.8776647303465989"
      ]
     },
     "execution_count": 48,
     "metadata": {},
     "output_type": "execute_result"
    }
   ],
   "source": [
    "data['LL'].corr(data['PI'])"
   ]
  },
  {
   "cell_type": "code",
   "execution_count": 49,
   "id": "6a85df33",
   "metadata": {},
   "outputs": [
    {
     "data": {
      "text/plain": [
       "-0.38511080584907587"
      ]
     },
     "execution_count": 49,
     "metadata": {},
     "output_type": "execute_result"
    }
   ],
   "source": [
    "data['OMC'].corr(data['CBR'])"
   ]
  },
  {
   "cell_type": "code",
   "execution_count": 51,
   "id": "6b5a3be8",
   "metadata": {},
   "outputs": [
    {
     "data": {
      "text/plain": [
       "CBR\n",
       "1.00      13.0\n",
       "1.32      35.0\n",
       "1.56      35.0\n",
       "1.67      35.0\n",
       "1.75      35.0\n",
       "          ... \n",
       "75.00     11.0\n",
       "76.00     11.0\n",
       "103.00    11.0\n",
       "104.00    10.0\n",
       "105.00    12.0\n",
       "Name: OMC, Length: 111, dtype: float64"
      ]
     },
     "execution_count": 51,
     "metadata": {},
     "output_type": "execute_result"
    }
   ],
   "source": [
    "data.groupby('CBR')['OMC'].mean()"
   ]
  },
  {
   "cell_type": "code",
   "execution_count": 52,
   "id": "cb644c9d",
   "metadata": {},
   "outputs": [
    {
     "data": {
      "text/html": [
       "<div>\n",
       "<style scoped>\n",
       "    .dataframe tbody tr th:only-of-type {\n",
       "        vertical-align: middle;\n",
       "    }\n",
       "\n",
       "    .dataframe tbody tr th {\n",
       "        vertical-align: top;\n",
       "    }\n",
       "\n",
       "    .dataframe thead th {\n",
       "        text-align: right;\n",
       "    }\n",
       "</style>\n",
       "<table border=\"1\" class=\"dataframe\">\n",
       "  <thead>\n",
       "    <tr style=\"text-align: right;\">\n",
       "      <th></th>\n",
       "      <th>LL</th>\n",
       "      <th>PL</th>\n",
       "      <th>PI</th>\n",
       "      <th>OMC</th>\n",
       "      <th>MDD</th>\n",
       "      <th>TS</th>\n",
       "      <th>P1</th>\n",
       "      <th>P2</th>\n",
       "      <th>P3</th>\n",
       "      <th>P4</th>\n",
       "      <th>NO. OF LAYER</th>\n",
       "      <th>CBR</th>\n",
       "    </tr>\n",
       "  </thead>\n",
       "  <tbody>\n",
       "    <tr>\n",
       "      <th>count</th>\n",
       "      <td>123.000000</td>\n",
       "      <td>123.000000</td>\n",
       "      <td>123.000000</td>\n",
       "      <td>123.000000</td>\n",
       "      <td>123.000000</td>\n",
       "      <td>123.000000</td>\n",
       "      <td>123.000000</td>\n",
       "      <td>123.000000</td>\n",
       "      <td>123.000000</td>\n",
       "      <td>123.000000</td>\n",
       "      <td>123.000000</td>\n",
       "      <td>123.000000</td>\n",
       "    </tr>\n",
       "    <tr>\n",
       "      <th>mean</th>\n",
       "      <td>36.975610</td>\n",
       "      <td>23.910569</td>\n",
       "      <td>13.728455</td>\n",
       "      <td>16.941463</td>\n",
       "      <td>11.765984</td>\n",
       "      <td>18.369431</td>\n",
       "      <td>0.186585</td>\n",
       "      <td>0.249756</td>\n",
       "      <td>0.261463</td>\n",
       "      <td>0.143089</td>\n",
       "      <td>1.804878</td>\n",
       "      <td>17.628577</td>\n",
       "    </tr>\n",
       "    <tr>\n",
       "      <th>std</th>\n",
       "      <td>24.268128</td>\n",
       "      <td>15.420344</td>\n",
       "      <td>11.533902</td>\n",
       "      <td>7.948697</td>\n",
       "      <td>6.464870</td>\n",
       "      <td>7.775770</td>\n",
       "      <td>0.183753</td>\n",
       "      <td>0.265075</td>\n",
       "      <td>0.334048</td>\n",
       "      <td>0.307843</td>\n",
       "      <td>1.171090</td>\n",
       "      <td>21.851406</td>\n",
       "    </tr>\n",
       "    <tr>\n",
       "      <th>min</th>\n",
       "      <td>0.000000</td>\n",
       "      <td>0.000000</td>\n",
       "      <td>0.000000</td>\n",
       "      <td>8.300000</td>\n",
       "      <td>0.001900</td>\n",
       "      <td>2.810000</td>\n",
       "      <td>0.000000</td>\n",
       "      <td>0.000000</td>\n",
       "      <td>0.000000</td>\n",
       "      <td>0.000000</td>\n",
       "      <td>1.000000</td>\n",
       "      <td>1.000000</td>\n",
       "    </tr>\n",
       "    <tr>\n",
       "      <th>25%</th>\n",
       "      <td>18.000000</td>\n",
       "      <td>14.000000</td>\n",
       "      <td>3.500000</td>\n",
       "      <td>12.000000</td>\n",
       "      <td>4.850000</td>\n",
       "      <td>13.000000</td>\n",
       "      <td>0.000000</td>\n",
       "      <td>0.000000</td>\n",
       "      <td>0.000000</td>\n",
       "      <td>0.000000</td>\n",
       "      <td>1.000000</td>\n",
       "      <td>3.320000</td>\n",
       "    </tr>\n",
       "    <tr>\n",
       "      <th>50%</th>\n",
       "      <td>45.000000</td>\n",
       "      <td>28.000000</td>\n",
       "      <td>10.400000</td>\n",
       "      <td>13.900000</td>\n",
       "      <td>13.330000</td>\n",
       "      <td>19.000000</td>\n",
       "      <td>0.200000</td>\n",
       "      <td>0.400000</td>\n",
       "      <td>0.000000</td>\n",
       "      <td>0.000000</td>\n",
       "      <td>1.000000</td>\n",
       "      <td>8.930000</td>\n",
       "    </tr>\n",
       "    <tr>\n",
       "      <th>75%</th>\n",
       "      <td>55.000000</td>\n",
       "      <td>35.000000</td>\n",
       "      <td>23.000000</td>\n",
       "      <td>18.000000</td>\n",
       "      <td>17.120000</td>\n",
       "      <td>20.000000</td>\n",
       "      <td>0.200000</td>\n",
       "      <td>0.400000</td>\n",
       "      <td>0.600000</td>\n",
       "      <td>0.000000</td>\n",
       "      <td>2.000000</td>\n",
       "      <td>23.095000</td>\n",
       "    </tr>\n",
       "    <tr>\n",
       "      <th>max</th>\n",
       "      <td>71.000000</td>\n",
       "      <td>45.000000</td>\n",
       "      <td>35.000000</td>\n",
       "      <td>35.000000</td>\n",
       "      <td>19.620000</td>\n",
       "      <td>35.000000</td>\n",
       "      <td>0.840000</td>\n",
       "      <td>0.840000</td>\n",
       "      <td>0.840000</td>\n",
       "      <td>0.800000</td>\n",
       "      <td>4.000000</td>\n",
       "      <td>105.000000</td>\n",
       "    </tr>\n",
       "  </tbody>\n",
       "</table>\n",
       "</div>"
      ],
      "text/plain": [
       "               LL          PL          PI         OMC         MDD          TS  \\\n",
       "count  123.000000  123.000000  123.000000  123.000000  123.000000  123.000000   \n",
       "mean    36.975610   23.910569   13.728455   16.941463   11.765984   18.369431   \n",
       "std     24.268128   15.420344   11.533902    7.948697    6.464870    7.775770   \n",
       "min      0.000000    0.000000    0.000000    8.300000    0.001900    2.810000   \n",
       "25%     18.000000   14.000000    3.500000   12.000000    4.850000   13.000000   \n",
       "50%     45.000000   28.000000   10.400000   13.900000   13.330000   19.000000   \n",
       "75%     55.000000   35.000000   23.000000   18.000000   17.120000   20.000000   \n",
       "max     71.000000   45.000000   35.000000   35.000000   19.620000   35.000000   \n",
       "\n",
       "               P1          P2          P3          P4  NO. OF LAYER  \\\n",
       "count  123.000000  123.000000  123.000000  123.000000    123.000000   \n",
       "mean     0.186585    0.249756    0.261463    0.143089      1.804878   \n",
       "std      0.183753    0.265075    0.334048    0.307843      1.171090   \n",
       "min      0.000000    0.000000    0.000000    0.000000      1.000000   \n",
       "25%      0.000000    0.000000    0.000000    0.000000      1.000000   \n",
       "50%      0.200000    0.400000    0.000000    0.000000      1.000000   \n",
       "75%      0.200000    0.400000    0.600000    0.000000      2.000000   \n",
       "max      0.840000    0.840000    0.840000    0.800000      4.000000   \n",
       "\n",
       "              CBR  \n",
       "count  123.000000  \n",
       "mean    17.628577  \n",
       "std     21.851406  \n",
       "min      1.000000  \n",
       "25%      3.320000  \n",
       "50%      8.930000  \n",
       "75%     23.095000  \n",
       "max    105.000000  "
      ]
     },
     "execution_count": 52,
     "metadata": {},
     "output_type": "execute_result"
    }
   ],
   "source": [
    "data.describe()"
   ]
  },
  {
   "cell_type": "code",
   "execution_count": 53,
   "id": "f4509294",
   "metadata": {},
   "outputs": [
    {
     "data": {
      "text/plain": [
       "LL              0\n",
       "PL              0\n",
       "PI              0\n",
       "OMC             0\n",
       "MDD             0\n",
       "TS              0\n",
       "P1              0\n",
       "P2              0\n",
       "P3              0\n",
       "P4              0\n",
       "NO. OF LAYER    0\n",
       "CBR             0\n",
       "dtype: int64"
      ]
     },
     "execution_count": 53,
     "metadata": {},
     "output_type": "execute_result"
    }
   ],
   "source": [
    "data.isnull().sum()"
   ]
  },
  {
   "cell_type": "code",
   "execution_count": null,
   "id": "00b979d0",
   "metadata": {},
   "outputs": [],
   "source": []
  },
  {
   "cell_type": "code",
   "execution_count": 9,
   "id": "147855a5",
   "metadata": {},
   "outputs": [],
   "source": [
    "# importing the scipy library for ttest\n",
    "\n",
    "from scipy.stats import ttest_ind"
   ]
  },
  {
   "cell_type": "code",
   "execution_count": 10,
   "id": "974af144",
   "metadata": {},
   "outputs": [
    {
     "data": {
      "text/plain": [
       "Ttest_indResult(statistic=6.570547596357175, pvalue=3.006149262015259e-10)"
      ]
     },
     "execution_count": 10,
     "metadata": {},
     "output_type": "execute_result"
    }
   ],
   "source": [
    "ttest_ind(data['LL'],data['CBR'],nan_policy='omit')"
   ]
  },
  {
   "cell_type": "code",
   "execution_count": 29,
   "id": "825affed",
   "metadata": {},
   "outputs": [
    {
     "data": {
      "text/plain": [
       "Ttest_indResult(statistic=2.6050414286334824, pvalue=0.009750538478778045)"
      ]
     },
     "execution_count": 29,
     "metadata": {},
     "output_type": "execute_result"
    }
   ],
   "source": [
    "ttest_ind(data['PL'],data['CBR'],nan_policy='omit')"
   ]
  },
  {
   "cell_type": "code",
   "execution_count": 30,
   "id": "d93ebc74",
   "metadata": {},
   "outputs": [
    {
     "data": {
      "text/plain": [
       "Ttest_indResult(statistic=-1.7505827070814395, pvalue=0.08127461148478039)"
      ]
     },
     "execution_count": 30,
     "metadata": {},
     "output_type": "execute_result"
    }
   ],
   "source": [
    "ttest_ind(data['PI'],data['CBR'],nan_policy='omit')"
   ]
  },
  {
   "cell_type": "code",
   "execution_count": 32,
   "id": "7232e6da",
   "metadata": {},
   "outputs": [
    {
     "data": {
      "text/plain": [
       "Ttest_indResult(statistic=-0.3277304727489079, pvalue=0.7433964878685717)"
      ]
     },
     "execution_count": 32,
     "metadata": {},
     "output_type": "execute_result"
    }
   ],
   "source": [
    "ttest_ind(data['OMC'],data['CBR'],nan_policy='omit')"
   ]
  },
  {
   "cell_type": "code",
   "execution_count": 33,
   "id": "095a4df5",
   "metadata": {},
   "outputs": [
    {
     "data": {
      "text/plain": [
       "Ttest_indResult(statistic=-2.8532654716352224, pvalue=0.004698689275829377)"
      ]
     },
     "execution_count": 33,
     "metadata": {},
     "output_type": "execute_result"
    }
   ],
   "source": [
    "ttest_ind(data['MDD'],data['CBR'],nan_policy='omit')"
   ]
  },
  {
   "cell_type": "code",
   "execution_count": 34,
   "id": "f29087c9",
   "metadata": {},
   "outputs": [
    {
     "data": {
      "text/plain": [
       "Ttest_indResult(statistic=0.3542545457581166, pvalue=0.7234540797227755)"
      ]
     },
     "execution_count": 34,
     "metadata": {},
     "output_type": "execute_result"
    }
   ],
   "source": [
    "ttest_ind(data['TS'],data['CBR'],nan_policy='omit')"
   ]
  },
  {
   "cell_type": "code",
   "execution_count": 36,
   "id": "ea31c0a1",
   "metadata": {},
   "outputs": [
    {
     "data": {
      "text/plain": [
       "Ttest_indResult(statistic=-8.852254740598724, pvalue=1.7911255883658453e-16)"
      ]
     },
     "execution_count": 36,
     "metadata": {},
     "output_type": "execute_result"
    }
   ],
   "source": [
    "ttest_ind(data['P1'],data['CBR'],nan_policy='omit')"
   ]
  },
  {
   "cell_type": "code",
   "execution_count": 37,
   "id": "08651d21",
   "metadata": {},
   "outputs": [
    {
     "data": {
      "text/plain": [
       "Ttest_indResult(statistic=-8.819856917137933, pvalue=2.230904873255733e-16)"
      ]
     },
     "execution_count": 37,
     "metadata": {},
     "output_type": "execute_result"
    }
   ],
   "source": [
    "ttest_ind(data['P2'],data['CBR'],nan_policy='omit')"
   ]
  },
  {
   "cell_type": "code",
   "execution_count": 38,
   "id": "0443ca2f",
   "metadata": {},
   "outputs": [
    {
     "data": {
      "text/plain": [
       "Ttest_indResult(statistic=-8.81353406851441, pvalue=2.328470484981235e-16)"
      ]
     },
     "execution_count": 38,
     "metadata": {},
     "output_type": "execute_result"
    }
   ],
   "source": [
    "ttest_ind(data['P3'],data['CBR'],nan_policy='omit')"
   ]
  },
  {
   "cell_type": "code",
   "execution_count": 39,
   "id": "d941c0de",
   "metadata": {},
   "outputs": [
    {
     "data": {
      "text/plain": [
       "Ttest_indResult(statistic=-8.873763247946378, pvalue=1.5478413496108341e-16)"
      ]
     },
     "execution_count": 39,
     "metadata": {},
     "output_type": "execute_result"
    }
   ],
   "source": [
    "ttest_ind(data['P4'],data['CBR'],nan_policy='omit')"
   ]
  },
  {
   "cell_type": "code",
   "execution_count": 40,
   "id": "236d94ba",
   "metadata": {},
   "outputs": [
    {
     "data": {
      "text/plain": [
       "Ttest_indResult(statistic=-8.873763247946378, pvalue=1.5478413496108341e-16)"
      ]
     },
     "execution_count": 40,
     "metadata": {},
     "output_type": "execute_result"
    }
   ],
   "source": [
    "ttest_ind(data['P4'],data['CBR'],nan_policy='omit')"
   ]
  },
  {
   "cell_type": "code",
   "execution_count": null,
   "id": "8176bf7c",
   "metadata": {},
   "outputs": [],
   "source": []
  },
  {
   "cell_type": "code",
   "execution_count": null,
   "id": "8c2ad1ed",
   "metadata": {},
   "outputs": [],
   "source": []
  },
  {
   "cell_type": "code",
   "execution_count": null,
   "id": "c4002a14",
   "metadata": {},
   "outputs": [],
   "source": []
  },
  {
   "cell_type": "code",
   "execution_count": null,
   "id": "cd983b22",
   "metadata": {},
   "outputs": [],
   "source": []
  },
  {
   "cell_type": "code",
   "execution_count": null,
   "id": "12bf1aa9",
   "metadata": {},
   "outputs": [],
   "source": []
  },
  {
   "cell_type": "code",
   "execution_count": null,
   "id": "05b4cb73",
   "metadata": {},
   "outputs": [],
   "source": []
  },
  {
   "cell_type": "code",
   "execution_count": null,
   "id": "2c751160",
   "metadata": {},
   "outputs": [],
   "source": []
  },
  {
   "cell_type": "code",
   "execution_count": null,
   "id": "40b5d1c9",
   "metadata": {},
   "outputs": [],
   "source": []
  },
  {
   "cell_type": "code",
   "execution_count": null,
   "id": "9b7d4c44",
   "metadata": {},
   "outputs": [],
   "source": []
  },
  {
   "cell_type": "code",
   "execution_count": null,
   "id": "bfee65ac",
   "metadata": {},
   "outputs": [],
   "source": []
  },
  {
   "cell_type": "code",
   "execution_count": null,
   "id": "03c9da04",
   "metadata": {},
   "outputs": [],
   "source": []
  },
  {
   "cell_type": "code",
   "execution_count": null,
   "id": "b8f0c3f9",
   "metadata": {},
   "outputs": [],
   "source": []
  },
  {
   "cell_type": "code",
   "execution_count": null,
   "id": "bf055e21",
   "metadata": {},
   "outputs": [],
   "source": []
  },
  {
   "cell_type": "code",
   "execution_count": null,
   "id": "17607053",
   "metadata": {},
   "outputs": [],
   "source": []
  },
  {
   "cell_type": "code",
   "execution_count": null,
   "id": "d78f0a02",
   "metadata": {},
   "outputs": [],
   "source": []
  },
  {
   "cell_type": "code",
   "execution_count": null,
   "id": "3041867f",
   "metadata": {},
   "outputs": [],
   "source": []
  },
  {
   "cell_type": "code",
   "execution_count": 13,
   "id": "7f8d5536",
   "metadata": {},
   "outputs": [
    {
     "data": {
      "text/plain": [
       "<AxesSubplot:xlabel='LL', ylabel='PI'>"
      ]
     },
     "execution_count": 13,
     "metadata": {},
     "output_type": "execute_result"
    },
    {
     "data": {
      "image/png": "[encoded data removed]",
      "text/plain": [
       "<Figure size 432x288 with 1 Axes>"
      ]
     },
     "metadata": {
      "needs_background": "light"
     },
     "output_type": "display_data"
    }
   ],
   "source": [
    "data.plot.scatter('LL','PI')"
   ]
  },
  {
   "cell_type": "code",
   "execution_count": 14,
   "id": "e4163a65",
   "metadata": {},
   "outputs": [
    {
     "data": {
      "text/plain": [
       "<AxesSubplot:xlabel='PL', ylabel='PI'>"
      ]
     },
     "execution_count": 14,
     "metadata": {},
     "output_type": "execute_result"
    },
    {
     "data": {
      "image/png": "[encoded data removed]",
      "text/plain": [
       "<Figure size 432x288 with 1 Axes>"
      ]
     },
     "metadata": {
      "needs_background": "light"
     },
     "output_type": "display_data"
    }
   ],
   "source": [
    "data.plot.scatter('PL','PI')"
   ]
  },
  {
   "cell_type": "code",
   "execution_count": 15,
   "id": "b26008f6",
   "metadata": {},
   "outputs": [
    {
     "data": {
      "text/plain": [
       "<AxesSubplot:xlabel='LL', ylabel='OMC'>"
      ]
     },
     "execution_count": 15,
     "metadata": {},
     "output_type": "execute_result"
    },
    {
     "data": {
      "image/png": "[encoded data removed]",
      "text/plain": [
       "<Figure size 432x288 with 1 Axes>"
      ]
     },
     "metadata": {
      "needs_background": "light"
     },
     "output_type": "display_data"
    }
   ],
   "source": [
    "data.plot.scatter('LL','OMC')"
   ]
  },
  {
   "cell_type": "code",
   "execution_count": 16,
   "id": "14552d2b",
   "metadata": {},
   "outputs": [
    {
     "data": {
      "text/plain": [
       "<AxesSubplot:xlabel='PL', ylabel='OMC'>"
      ]
     },
     "execution_count": 16,
     "metadata": {},
     "output_type": "execute_result"
    },
    {
     "data": {
      "image/png": "[encoded data removed]",
      "text/plain": [
       "<Figure size 432x288 with 1 Axes>"
      ]
     },
     "metadata": {
      "needs_background": "light"
     },
     "output_type": "display_data"
    }
   ],
   "source": [
    "data.plot.scatter('PL','OMC')"
   ]
  },
  {
   "cell_type": "code",
   "execution_count": 17,
   "id": "f3657da2",
   "metadata": {},
   "outputs": [
    {
     "data": {
      "text/plain": [
       "<AxesSubplot:xlabel='PI', ylabel='OMC'>"
      ]
     },
     "execution_count": 17,
     "metadata": {},
     "output_type": "execute_result"
    },
    {
     "data": {
      "image/png": "[encoded data removed]",
      "text/plain": [
       "<Figure size 432x288 with 1 Axes>"
      ]
     },
     "metadata": {
      "needs_background": "light"
     },
     "output_type": "display_data"
    }
   ],
   "source": [
    "data.plot.scatter('PI','OMC')"
   ]
  },
  {
   "cell_type": "code",
   "execution_count": 18,
   "id": "bc0f02b8",
   "metadata": {},
   "outputs": [
    {
     "data": {
      "text/plain": [
       "<AxesSubplot:xlabel='LL', ylabel='MDD'>"
      ]
     },
     "execution_count": 18,
     "metadata": {},
     "output_type": "execute_result"
    },
    {
     "data": {
      "image/png": "[encoded data removed]",
      "text/plain": [
       "<Figure size 432x288 with 1 Axes>"
      ]
     },
     "metadata": {
      "needs_background": "light"
     },
     "output_type": "display_data"
    }
   ],
   "source": [
    "data.plot.scatter('LL','MDD')"
   ]
  },
  {
   "cell_type": "code",
   "execution_count": 19,
   "id": "0f75d7ac",
   "metadata": {},
   "outputs": [
    {
     "data": {
      "text/plain": [
       "<AxesSubplot:xlabel='PL', ylabel='MDD'>"
      ]
     },
     "execution_count": 19,
     "metadata": {},
     "output_type": "execute_result"
    },
    {
     "data": {
      "image/png": "[encoded data removed]",
      "text/plain": [
       "<Figure size 432x288 with 1 Axes>"
      ]
     },
     "metadata": {
      "needs_background": "light"
     },
     "output_type": "display_data"
    }
   ],
   "source": [
    "data.plot.scatter('PL','MDD')"
   ]
  },
  {
   "cell_type": "code",
   "execution_count": 20,
   "id": "c47b787a",
   "metadata": {},
   "outputs": [
    {
     "data": {
      "text/plain": [
       "<AxesSubplot:xlabel='PI', ylabel='MDD'>"
      ]
     },
     "execution_count": 20,
     "metadata": {},
     "output_type": "execute_result"
    },
    {
     "data": {
      "image/png": "[encoded data removed]",
      "text/plain": [
       "<Figure size 432x288 with 1 Axes>"
      ]
     },
     "metadata": {
      "needs_background": "light"
     },
     "output_type": "display_data"
    }
   ],
   "source": [
    "data.plot.scatter('PI','MDD')"
   ]
  },
  {
   "cell_type": "code",
   "execution_count": 21,
   "id": "f342afc2",
   "metadata": {},
   "outputs": [
    {
     "data": {
      "text/plain": [
       "<AxesSubplot:xlabel='OMC', ylabel='MDD'>"
      ]
     },
     "execution_count": 21,
     "metadata": {},
     "output_type": "execute_result"
    },
    {
     "data": {
      "image/png": "[encoded data removed]",
      "text/plain": [
       "<Figure size 432x288 with 1 Axes>"
      ]
     },
     "metadata": {
      "needs_background": "light"
     },
     "output_type": "display_data"
    }
   ],
   "source": [
    "data.plot.scatter('OMC','MDD')"
   ]
  },
  {
   "cell_type": "code",
   "execution_count": 22,
   "id": "f8447f84",
   "metadata": {},
   "outputs": [
    {
     "data": {
      "text/plain": [
       "<AxesSubplot:xlabel='LL', ylabel='TS'>"
      ]
     },
     "execution_count": 22,
     "metadata": {},
     "output_type": "execute_result"
    },
    {
     "data": {
      "image/png": "[encoded data removed]",
      "text/plain": [
       "<Figure size 432x288 with 1 Axes>"
      ]
     },
     "metadata": {
      "needs_background": "light"
     },
     "output_type": "display_data"
    }
   ],
   "source": [
    "data.plot.scatter('LL','TS')"
   ]
  },
  {
   "cell_type": "code",
   "execution_count": 23,
   "id": "1be48a7d",
   "metadata": {},
   "outputs": [
    {
     "data": {
      "text/plain": [
       "<AxesSubplot:xlabel='PL', ylabel='TS'>"
      ]
     },
     "execution_count": 23,
     "metadata": {},
     "output_type": "execute_result"
    },
    {
     "data": {
      "image/png": "[encoded data removed]",
      "text/plain": [
       "<Figure size 432x288 with 1 Axes>"
      ]
     },
     "metadata": {
      "needs_background": "light"
     },
     "output_type": "display_data"
    }
   ],
   "source": [
    "data.plot.scatter('PL','TS')"
   ]
  },
  {
   "cell_type": "code",
   "execution_count": 24,
   "id": "5fea5a9e",
   "metadata": {},
   "outputs": [
    {
     "data": {
      "text/plain": [
       "<AxesSubplot:xlabel='PI', ylabel='TS'>"
      ]
     },
     "execution_count": 24,
     "metadata": {},
     "output_type": "execute_result"
    },
    {
     "data": {
      "image/png": "[encoded data removed]",
      "text/plain": [
       "<Figure size 432x288 with 1 Axes>"
      ]
     },
     "metadata": {
      "needs_background": "light"
     },
     "output_type": "display_data"
    }
   ],
   "source": [
    "data.plot.scatter('PI','TS')"
   ]
  },
  {
   "cell_type": "code",
   "execution_count": 25,
   "id": "283e0c86",
   "metadata": {},
   "outputs": [
    {
     "data": {
      "text/plain": [
       "<AxesSubplot:xlabel='OMC', ylabel='TS'>"
      ]
     },
     "execution_count": 25,
     "metadata": {},
     "output_type": "execute_result"
    },
    {
     "data": {
      "image/png": "[encoded data removed]",
      "text/plain": [
       "<Figure size 432x288 with 1 Axes>"
      ]
     },
     "metadata": {
      "needs_background": "light"
     },
     "output_type": "display_data"
    }
   ],
   "source": [
    "data.plot.scatter('OMC','TS')"
   ]
  },
  {
   "cell_type": "code",
   "execution_count": 26,
   "id": "995bc577",
   "metadata": {},
   "outputs": [
    {
     "data": {
      "text/plain": [
       "<AxesSubplot:xlabel='MDD', ylabel='TS'>"
      ]
     },
     "execution_count": 26,
     "metadata": {},
     "output_type": "execute_result"
    },
    {
     "data": {
      "image/png": "[encoded data removed]",
      "text/plain": [
       "<Figure size 432x288 with 1 Axes>"
      ]
     },
     "metadata": {
      "needs_background": "light"
     },
     "output_type": "display_data"
    }
   ],
   "source": [
    "data.plot.scatter('MDD','TS')"
   ]
  },
  {
   "cell_type": "code",
   "execution_count": 27,
   "id": "e32b77cf",
   "metadata": {},
   "outputs": [
    {
     "ename": "KeyError",
     "evalue": "'NO. OF LAYRER'",
     "output_type": "error",
     "traceback": [
      "\u001b[1;31m---------------------------------------------------------------------------\u001b[0m",
      "\u001b[1;31mKeyError\u001b[0m                                  Traceback (most recent call last)",
      "File \u001b[1;32m~\\anaconda3\\lib\\site-packages\\pandas\\core\\indexes\\base.py:3621\u001b[0m, in \u001b[0;36mIndex.get_loc\u001b[1;34m(self, key, method, tolerance)\u001b[0m\n\u001b[0;32m   3620\u001b[0m \u001b[38;5;28;01mtry\u001b[39;00m:\n\u001b[1;32m-> 3621\u001b[0m     \u001b[38;5;28;01mreturn\u001b[39;00m \u001b[38;5;28;43mself\u001b[39;49m\u001b[38;5;241;43m.\u001b[39;49m\u001b[43m_engine\u001b[49m\u001b[38;5;241;43m.\u001b[39;49m\u001b[43mget_loc\u001b[49m\u001b[43m(\u001b[49m\u001b[43mcasted_key\u001b[49m\u001b[43m)\u001b[49m\n\u001b[0;32m   3622\u001b[0m \u001b[38;5;28;01mexcept\u001b[39;00m \u001b[38;5;167;01mKeyError\u001b[39;00m \u001b[38;5;28;01mas\u001b[39;00m err:\n",
      "File \u001b[1;32m~\\anaconda3\\lib\\site-packages\\pandas\\_libs\\index.pyx:136\u001b[0m, in \u001b[0;36mpandas._libs.index.IndexEngine.get_loc\u001b[1;34m()\u001b[0m\n",
      "File \u001b[1;32m~\\anaconda3\\lib\\site-packages\\pandas\\_libs\\index.pyx:163\u001b[0m, in \u001b[0;36mpandas._libs.index.IndexEngine.get_loc\u001b[1;34m()\u001b[0m\n",
      "File \u001b[1;32mpandas\\_libs\\hashtable_class_helper.pxi:5198\u001b[0m, in \u001b[0;36mpandas._libs.hashtable.PyObjectHashTable.get_item\u001b[1;34m()\u001b[0m\n",
      "File \u001b[1;32mpandas\\_libs\\hashtable_class_helper.pxi:5206\u001b[0m, in \u001b[0;36mpandas._libs.hashtable.PyObjectHashTable.get_item\u001b[1;34m()\u001b[0m\n",
      "\u001b[1;31mKeyError\u001b[0m: 'NO. OF LAYRER'",
      "\nThe above exception was the direct cause of the following exception:\n",
      "\u001b[1;31mKeyError\u001b[0m                                  Traceback (most recent call last)",
      "Input \u001b[1;32mIn [27]\u001b[0m, in \u001b[0;36m<cell line: 1>\u001b[1;34m()\u001b[0m\n\u001b[1;32m----> 1\u001b[0m \u001b[43mdata\u001b[49m\u001b[38;5;241;43m.\u001b[39;49m\u001b[43mplot\u001b[49m\u001b[38;5;241;43m.\u001b[39;49m\u001b[43mscatter\u001b[49m\u001b[43m(\u001b[49m\u001b[38;5;124;43m'\u001b[39;49m\u001b[38;5;124;43mOMC\u001b[39;49m\u001b[38;5;124;43m'\u001b[39;49m\u001b[43m,\u001b[49m\u001b[38;5;124;43m'\u001b[39;49m\u001b[38;5;124;43mNO. OF LAYRER\u001b[39;49m\u001b[38;5;124;43m'\u001b[39;49m\u001b[43m)\u001b[49m\n",
      "File \u001b[1;32m~\\anaconda3\\lib\\site-packages\\pandas\\plotting\\_core.py:1669\u001b[0m, in \u001b[0;36mPlotAccessor.scatter\u001b[1;34m(self, x, y, s, c, **kwargs)\u001b[0m\n\u001b[0;32m   1586\u001b[0m \u001b[38;5;28;01mdef\u001b[39;00m \u001b[38;5;21mscatter\u001b[39m(\u001b[38;5;28mself\u001b[39m, x, y, s\u001b[38;5;241m=\u001b[39m\u001b[38;5;28;01mNone\u001b[39;00m, c\u001b[38;5;241m=\u001b[39m\u001b[38;5;28;01mNone\u001b[39;00m, \u001b[38;5;241m*\u001b[39m\u001b[38;5;241m*\u001b[39mkwargs):\n\u001b[0;32m   1587\u001b[0m     \u001b[38;5;124;03m\"\"\"\u001b[39;00m\n\u001b[0;32m   1588\u001b[0m \u001b[38;5;124;03m    Create a scatter plot with varying marker point size and color.\u001b[39;00m\n\u001b[0;32m   1589\u001b[0m \n\u001b[1;32m   (...)\u001b[0m\n\u001b[0;32m   1667\u001b[0m \u001b[38;5;124;03m        ...                       colormap='viridis')\u001b[39;00m\n\u001b[0;32m   1668\u001b[0m \u001b[38;5;124;03m    \"\"\"\u001b[39;00m\n\u001b[1;32m-> 1669\u001b[0m     \u001b[38;5;28;01mreturn\u001b[39;00m \u001b[38;5;28mself\u001b[39m(kind\u001b[38;5;241m=\u001b[39m\u001b[38;5;124m\"\u001b[39m\u001b[38;5;124mscatter\u001b[39m\u001b[38;5;124m\"\u001b[39m, x\u001b[38;5;241m=\u001b[39mx, y\u001b[38;5;241m=\u001b[39my, s\u001b[38;5;241m=\u001b[39ms, c\u001b[38;5;241m=\u001b[39mc, \u001b[38;5;241m*\u001b[39m\u001b[38;5;241m*\u001b[39mkwargs)\n",
      "File \u001b[1;32m~\\anaconda3\\lib\\site-packages\\pandas\\plotting\\_core.py:917\u001b[0m, in \u001b[0;36mPlotAccessor.__call__\u001b[1;34m(self, *args, **kwargs)\u001b[0m\n\u001b[0;32m    915\u001b[0m \u001b[38;5;28;01mif\u001b[39;00m kind \u001b[38;5;129;01min\u001b[39;00m \u001b[38;5;28mself\u001b[39m\u001b[38;5;241m.\u001b[39m_dataframe_kinds:\n\u001b[0;32m    916\u001b[0m     \u001b[38;5;28;01mif\u001b[39;00m \u001b[38;5;28misinstance\u001b[39m(data, ABCDataFrame):\n\u001b[1;32m--> 917\u001b[0m         \u001b[38;5;28;01mreturn\u001b[39;00m plot_backend\u001b[38;5;241m.\u001b[39mplot(data, x\u001b[38;5;241m=\u001b[39mx, y\u001b[38;5;241m=\u001b[39my, kind\u001b[38;5;241m=\u001b[39mkind, \u001b[38;5;241m*\u001b[39m\u001b[38;5;241m*\u001b[39mkwargs)\n\u001b[0;32m    918\u001b[0m     \u001b[38;5;28;01melse\u001b[39;00m:\n\u001b[0;32m    919\u001b[0m         \u001b[38;5;28;01mraise\u001b[39;00m \u001b[38;5;167;01mValueError\u001b[39;00m(\u001b[38;5;124mf\u001b[39m\u001b[38;5;124m\"\u001b[39m\u001b[38;5;124mplot kind \u001b[39m\u001b[38;5;132;01m{\u001b[39;00mkind\u001b[38;5;132;01m}\u001b[39;00m\u001b[38;5;124m can only be used for data frames\u001b[39m\u001b[38;5;124m\"\u001b[39m)\n",
      "File \u001b[1;32m~\\anaconda3\\lib\\site-packages\\pandas\\plotting\\_matplotlib\\__init__.py:71\u001b[0m, in \u001b[0;36mplot\u001b[1;34m(data, kind, **kwargs)\u001b[0m\n\u001b[0;32m     69\u001b[0m         kwargs[\u001b[38;5;124m\"\u001b[39m\u001b[38;5;124max\u001b[39m\u001b[38;5;124m\"\u001b[39m] \u001b[38;5;241m=\u001b[39m \u001b[38;5;28mgetattr\u001b[39m(ax, \u001b[38;5;124m\"\u001b[39m\u001b[38;5;124mleft_ax\u001b[39m\u001b[38;5;124m\"\u001b[39m, ax)\n\u001b[0;32m     70\u001b[0m plot_obj \u001b[38;5;241m=\u001b[39m PLOT_CLASSES[kind](data, \u001b[38;5;241m*\u001b[39m\u001b[38;5;241m*\u001b[39mkwargs)\n\u001b[1;32m---> 71\u001b[0m \u001b[43mplot_obj\u001b[49m\u001b[38;5;241;43m.\u001b[39;49m\u001b[43mgenerate\u001b[49m\u001b[43m(\u001b[49m\u001b[43m)\u001b[49m\n\u001b[0;32m     72\u001b[0m plot_obj\u001b[38;5;241m.\u001b[39mdraw()\n\u001b[0;32m     73\u001b[0m \u001b[38;5;28;01mreturn\u001b[39;00m plot_obj\u001b[38;5;241m.\u001b[39mresult\n",
      "File \u001b[1;32m~\\anaconda3\\lib\\site-packages\\pandas\\plotting\\_matplotlib\\core.py:329\u001b[0m, in \u001b[0;36mMPLPlot.generate\u001b[1;34m(self)\u001b[0m\n\u001b[0;32m    327\u001b[0m \u001b[38;5;28mself\u001b[39m\u001b[38;5;241m.\u001b[39m_compute_plot_data()\n\u001b[0;32m    328\u001b[0m \u001b[38;5;28mself\u001b[39m\u001b[38;5;241m.\u001b[39m_setup_subplots()\n\u001b[1;32m--> 329\u001b[0m \u001b[38;5;28;43mself\u001b[39;49m\u001b[38;5;241;43m.\u001b[39;49m\u001b[43m_make_plot\u001b[49m\u001b[43m(\u001b[49m\u001b[43m)\u001b[49m\n\u001b[0;32m    330\u001b[0m \u001b[38;5;28mself\u001b[39m\u001b[38;5;241m.\u001b[39m_add_table()\n\u001b[0;32m    331\u001b[0m \u001b[38;5;28mself\u001b[39m\u001b[38;5;241m.\u001b[39m_make_legend()\n",
      "File \u001b[1;32m~\\anaconda3\\lib\\site-packages\\pandas\\plotting\\_matplotlib\\core.py:1116\u001b[0m, in \u001b[0;36mScatterPlot._make_plot\u001b[1;34m(self)\u001b[0m\n\u001b[0;32m   1112\u001b[0m \u001b[38;5;28;01melse\u001b[39;00m:\n\u001b[0;32m   1113\u001b[0m     label \u001b[38;5;241m=\u001b[39m \u001b[38;5;28;01mNone\u001b[39;00m\n\u001b[0;32m   1114\u001b[0m scatter \u001b[38;5;241m=\u001b[39m ax\u001b[38;5;241m.\u001b[39mscatter(\n\u001b[0;32m   1115\u001b[0m     data[x]\u001b[38;5;241m.\u001b[39mvalues,\n\u001b[1;32m-> 1116\u001b[0m     \u001b[43mdata\u001b[49m\u001b[43m[\u001b[49m\u001b[43my\u001b[49m\u001b[43m]\u001b[49m\u001b[38;5;241m.\u001b[39mvalues,\n\u001b[0;32m   1117\u001b[0m     c\u001b[38;5;241m=\u001b[39mc_values,\n\u001b[0;32m   1118\u001b[0m     label\u001b[38;5;241m=\u001b[39mlabel,\n\u001b[0;32m   1119\u001b[0m     cmap\u001b[38;5;241m=\u001b[39mcmap,\n\u001b[0;32m   1120\u001b[0m     norm\u001b[38;5;241m=\u001b[39mnorm,\n\u001b[0;32m   1121\u001b[0m     \u001b[38;5;241m*\u001b[39m\u001b[38;5;241m*\u001b[39m\u001b[38;5;28mself\u001b[39m\u001b[38;5;241m.\u001b[39mkwds,\n\u001b[0;32m   1122\u001b[0m )\n\u001b[0;32m   1123\u001b[0m \u001b[38;5;28;01mif\u001b[39;00m cb:\n\u001b[0;32m   1124\u001b[0m     cbar_label \u001b[38;5;241m=\u001b[39m c \u001b[38;5;28;01mif\u001b[39;00m c_is_column \u001b[38;5;28;01melse\u001b[39;00m \u001b[38;5;124m\"\u001b[39m\u001b[38;5;124m\"\u001b[39m\n",
      "File \u001b[1;32m~\\anaconda3\\lib\\site-packages\\pandas\\core\\frame.py:3505\u001b[0m, in \u001b[0;36mDataFrame.__getitem__\u001b[1;34m(self, key)\u001b[0m\n\u001b[0;32m   3503\u001b[0m \u001b[38;5;28;01mif\u001b[39;00m \u001b[38;5;28mself\u001b[39m\u001b[38;5;241m.\u001b[39mcolumns\u001b[38;5;241m.\u001b[39mnlevels \u001b[38;5;241m>\u001b[39m \u001b[38;5;241m1\u001b[39m:\n\u001b[0;32m   3504\u001b[0m     \u001b[38;5;28;01mreturn\u001b[39;00m \u001b[38;5;28mself\u001b[39m\u001b[38;5;241m.\u001b[39m_getitem_multilevel(key)\n\u001b[1;32m-> 3505\u001b[0m indexer \u001b[38;5;241m=\u001b[39m \u001b[38;5;28;43mself\u001b[39;49m\u001b[38;5;241;43m.\u001b[39;49m\u001b[43mcolumns\u001b[49m\u001b[38;5;241;43m.\u001b[39;49m\u001b[43mget_loc\u001b[49m\u001b[43m(\u001b[49m\u001b[43mkey\u001b[49m\u001b[43m)\u001b[49m\n\u001b[0;32m   3506\u001b[0m \u001b[38;5;28;01mif\u001b[39;00m is_integer(indexer):\n\u001b[0;32m   3507\u001b[0m     indexer \u001b[38;5;241m=\u001b[39m [indexer]\n",
      "File \u001b[1;32m~\\anaconda3\\lib\\site-packages\\pandas\\core\\indexes\\base.py:3623\u001b[0m, in \u001b[0;36mIndex.get_loc\u001b[1;34m(self, key, method, tolerance)\u001b[0m\n\u001b[0;32m   3621\u001b[0m     \u001b[38;5;28;01mreturn\u001b[39;00m \u001b[38;5;28mself\u001b[39m\u001b[38;5;241m.\u001b[39m_engine\u001b[38;5;241m.\u001b[39mget_loc(casted_key)\n\u001b[0;32m   3622\u001b[0m \u001b[38;5;28;01mexcept\u001b[39;00m \u001b[38;5;167;01mKeyError\u001b[39;00m \u001b[38;5;28;01mas\u001b[39;00m err:\n\u001b[1;32m-> 3623\u001b[0m     \u001b[38;5;28;01mraise\u001b[39;00m \u001b[38;5;167;01mKeyError\u001b[39;00m(key) \u001b[38;5;28;01mfrom\u001b[39;00m \u001b[38;5;21;01merr\u001b[39;00m\n\u001b[0;32m   3624\u001b[0m \u001b[38;5;28;01mexcept\u001b[39;00m \u001b[38;5;167;01mTypeError\u001b[39;00m:\n\u001b[0;32m   3625\u001b[0m     \u001b[38;5;66;03m# If we have a listlike key, _check_indexing_error will raise\u001b[39;00m\n\u001b[0;32m   3626\u001b[0m     \u001b[38;5;66;03m#  InvalidIndexError. Otherwise we fall through and re-raise\u001b[39;00m\n\u001b[0;32m   3627\u001b[0m     \u001b[38;5;66;03m#  the TypeError.\u001b[39;00m\n\u001b[0;32m   3628\u001b[0m     \u001b[38;5;28mself\u001b[39m\u001b[38;5;241m.\u001b[39m_check_indexing_error(key)\n",
      "\u001b[1;31mKeyError\u001b[0m: 'NO. OF LAYRER'"
     ]
    },
    {
     "data": {
      "image/png": "[encoded data removed]",
      "text/plain": [
       "<Figure size 432x288 with 1 Axes>"
      ]
     },
     "metadata": {
      "needs_background": "light"
     },
     "output_type": "display_data"
    }
   ],
   "source": [
    "data.plot.scatter('OMC','NO. OF LAYRER')"
   ]
  },
  {
   "cell_type": "code",
   "execution_count": null,
   "id": "2dec2b8e",
   "metadata": {},
   "outputs": [],
   "source": [
    "data.plot.scatter('MDD','NO. OF LAYRER')"
   ]
  },
  {
   "cell_type": "code",
   "execution_count": null,
   "id": "1ffc1395",
   "metadata": {},
   "outputs": [],
   "source": [
    "data.plot.scatter('TS','NO. OF LAYRER')"
   ]
  },
  {
   "cell_type": "code",
   "execution_count": null,
   "id": "17f78407",
   "metadata": {},
   "outputs": [],
   "source": [
    "data.plot.scatter('LL','NO. OF LAYRER')"
   ]
  },
  {
   "cell_type": "code",
   "execution_count": null,
   "id": "d8743bfc",
   "metadata": {},
   "outputs": [],
   "source": [
    "data.plot.scatter('PL','NO. OF LAYRER')"
   ]
  },
  {
   "cell_type": "code",
   "execution_count": null,
   "id": "cc688e5c",
   "metadata": {},
   "outputs": [],
   "source": [
    "data.plot.scatter('PI','NO. OF LAYRER')"
   ]
  },
  {
   "cell_type": "code",
   "execution_count": null,
   "id": "0af12241",
   "metadata": {},
   "outputs": [],
   "source": [
    "data.plot.scatter('LL','P1')"
   ]
  },
  {
   "cell_type": "code",
   "execution_count": null,
   "id": "5b09ed5f",
   "metadata": {},
   "outputs": [],
   "source": [
    "data.plot.scatter('LL','P2')"
   ]
  },
  {
   "cell_type": "code",
   "execution_count": null,
   "id": "60e19c04",
   "metadata": {},
   "outputs": [],
   "source": [
    "data.plot.scatter('LL','P3')"
   ]
  },
  {
   "cell_type": "code",
   "execution_count": null,
   "id": "153809c1",
   "metadata": {},
   "outputs": [],
   "source": [
    "data.plot.scatter('LL','P4')"
   ]
  },
  {
   "cell_type": "code",
   "execution_count": null,
   "id": "cf4a7349",
   "metadata": {},
   "outputs": [],
   "source": [
    "data.plot.scatter('PL','P1')"
   ]
  },
  {
   "cell_type": "code",
   "execution_count": null,
   "id": "78b21c3f",
   "metadata": {},
   "outputs": [],
   "source": [
    "data.plot.scatter('PL','P2')"
   ]
  },
  {
   "cell_type": "code",
   "execution_count": null,
   "id": "1631d57d",
   "metadata": {},
   "outputs": [],
   "source": [
    "data.plot.scatter('PL','P3')"
   ]
  },
  {
   "cell_type": "code",
   "execution_count": null,
   "id": "d30f917d",
   "metadata": {},
   "outputs": [],
   "source": [
    "data.plot.scatter('PL','P4')"
   ]
  },
  {
   "cell_type": "code",
   "execution_count": null,
   "id": "2be49978",
   "metadata": {},
   "outputs": [],
   "source": [
    "data.plot.scatter('PI','P1')"
   ]
  },
  {
   "cell_type": "code",
   "execution_count": null,
   "id": "05140efd",
   "metadata": {},
   "outputs": [],
   "source": [
    "data.plot.scatter('PI','P2')"
   ]
  },
  {
   "cell_type": "code",
   "execution_count": null,
   "id": "3ec5c075",
   "metadata": {},
   "outputs": [],
   "source": [
    "data.plot.scatter('PI','P3')"
   ]
  },
  {
   "cell_type": "code",
   "execution_count": null,
   "id": "00f7c6e9",
   "metadata": {},
   "outputs": [],
   "source": [
    "data.plot.scatter('PI','P4')"
   ]
  },
  {
   "cell_type": "code",
   "execution_count": null,
   "id": "a29559b7",
   "metadata": {},
   "outputs": [],
   "source": [
    "data.plot.scatter('OMC','P1')"
   ]
  },
  {
   "cell_type": "code",
   "execution_count": null,
   "id": "74b8d28e",
   "metadata": {},
   "outputs": [],
   "source": [
    "data.plot.scatter('OMC','P2')"
   ]
  },
  {
   "cell_type": "code",
   "execution_count": null,
   "id": "7df301da",
   "metadata": {},
   "outputs": [],
   "source": [
    "data.plot.scatter('OMC','P3')"
   ]
  },
  {
   "cell_type": "code",
   "execution_count": null,
   "id": "d492cd12",
   "metadata": {},
   "outputs": [],
   "source": [
    "data.plot.scatter('OMC','P4')"
   ]
  },
  {
   "cell_type": "code",
   "execution_count": null,
   "id": "c1cd08cd",
   "metadata": {},
   "outputs": [],
   "source": [
    "data.plot.scatter('MDD','P1')"
   ]
  },
  {
   "cell_type": "code",
   "execution_count": null,
   "id": "d1a8e8af",
   "metadata": {},
   "outputs": [],
   "source": [
    "data.plot.scatter('MDD','P2')"
   ]
  },
  {
   "cell_type": "code",
   "execution_count": null,
   "id": "88b58fde",
   "metadata": {},
   "outputs": [],
   "source": [
    "data.plot.scatter('MDD','P3')"
   ]
  },
  {
   "cell_type": "code",
   "execution_count": null,
   "id": "f7162106",
   "metadata": {},
   "outputs": [],
   "source": [
    "data.plot.scatter('MDD','P4')"
   ]
  },
  {
   "cell_type": "code",
   "execution_count": null,
   "id": "8edd23e8",
   "metadata": {},
   "outputs": [],
   "source": [
    "data.plot.scatter('TS','P1')"
   ]
  },
  {
   "cell_type": "code",
   "execution_count": null,
   "id": "582b5cc0",
   "metadata": {},
   "outputs": [],
   "source": [
    "data.plot.scatter('TS','P2')"
   ]
  },
  {
   "cell_type": "code",
   "execution_count": null,
   "id": "24695615",
   "metadata": {},
   "outputs": [],
   "source": [
    "data.plot.scatter('TS','P3')"
   ]
  },
  {
   "cell_type": "code",
   "execution_count": null,
   "id": "d11d1918",
   "metadata": {},
   "outputs": [],
   "source": [
    "data.plot.scatter('TS','P4')"
   ]
  },
  {
   "cell_type": "code",
   "execution_count": null,
   "id": "617a3af3",
   "metadata": {},
   "outputs": [],
   "source": [
    "data.plot.scatter('LL','CBR')"
   ]
  },
  {
   "cell_type": "code",
   "execution_count": null,
   "id": "376f1163",
   "metadata": {},
   "outputs": [],
   "source": [
    "data.plot.scatter('PL','CBR')"
   ]
  },
  {
   "cell_type": "code",
   "execution_count": null,
   "id": "45366e27",
   "metadata": {},
   "outputs": [],
   "source": [
    "data.plot.scatter('PI','CBR')"
   ]
  },
  {
   "cell_type": "code",
   "execution_count": null,
   "id": "a69c3912",
   "metadata": {},
   "outputs": [],
   "source": [
    "data.plot.scatter('OMC','CBR')"
   ]
  },
  {
   "cell_type": "code",
   "execution_count": null,
   "id": "92c52777",
   "metadata": {},
   "outputs": [],
   "source": [
    "data.plot.scatter('MDD','CBR')"
   ]
  },
  {
   "cell_type": "code",
   "execution_count": null,
   "id": "7e69e8d0",
   "metadata": {},
   "outputs": [],
   "source": [
    "data.plot.scatter('TS','CBR')"
   ]
  },
  {
   "cell_type": "code",
   "execution_count": null,
   "id": "78275042",
   "metadata": {},
   "outputs": [],
   "source": [
    "data.plot.scatter('P1','CBR')"
   ]
  },
  {
   "cell_type": "code",
   "execution_count": null,
   "id": "aa15e208",
   "metadata": {},
   "outputs": [],
   "source": [
    "data.plot.scatter('P2','CBR')"
   ]
  },
  {
   "cell_type": "code",
   "execution_count": null,
   "id": "9307e782",
   "metadata": {},
   "outputs": [],
   "source": [
    "data.plot.scatter('P3','CBR')"
   ]
  },
  {
   "cell_type": "code",
   "execution_count": null,
   "id": "813d23e0",
   "metadata": {},
   "outputs": [],
   "source": [
    "data.plot.scatter('P4','CBR')"
   ]
  },
  {
   "cell_type": "code",
   "execution_count": null,
   "id": "cb878b88",
   "metadata": {},
   "outputs": [],
   "source": [
    "data.plot.scatter('NO. OF LAYRER','CBR')"
   ]
  },
  {
   "cell_type": "code",
   "execution_count": null,
   "id": "b9a2f763",
   "metadata": {},
   "outputs": [],
   "source": []
  },
  {
   "cell_type": "code",
   "execution_count": null,
   "id": "d21919b2",
   "metadata": {},
   "outputs": [],
   "source": []
  },
  {
   "cell_type": "code",
   "execution_count": null,
   "id": "daef2c37",
   "metadata": {},
   "outputs": [],
   "source": []
  },
  {
   "cell_type": "code",
   "execution_count": null,
   "id": "da1ac1c0",
   "metadata": {},
   "outputs": [],
   "source": []
  },
  {
   "cell_type": "code",
   "execution_count": null,
   "id": "e487c0e7",
   "metadata": {},
   "outputs": [],
   "source": []
  },
  {
   "cell_type": "code",
   "execution_count": null,
   "id": "4d9a85b8",
   "metadata": {},
   "outputs": [],
   "source": []
  },
  {
   "cell_type": "code",
   "execution_count": null,
   "id": "1a768207",
   "metadata": {},
   "outputs": [],
   "source": []
  },
  {
   "cell_type": "code",
   "execution_count": null,
   "id": "9c019d6e",
   "metadata": {},
   "outputs": [],
   "source": []
  },
  {
   "cell_type": "code",
   "execution_count": null,
   "id": "9e1a447e",
   "metadata": {},
   "outputs": [],
   "source": []
  },
  {
   "cell_type": "code",
   "execution_count": null,
   "id": "494f1d86",
   "metadata": {},
   "outputs": [],
   "source": []
  },
  {
   "cell_type": "code",
   "execution_count": null,
   "id": "3ac6e7a7",
   "metadata": {},
   "outputs": [],
   "source": []
  },
  {
   "cell_type": "code",
   "execution_count": null,
   "id": "4809cd1c",
   "metadata": {},
   "outputs": [],
   "source": []
  },
  {
   "cell_type": "code",
   "execution_count": null,
   "id": "f39435c8",
   "metadata": {},
   "outputs": [],
   "source": []
  },
  {
   "cell_type": "code",
   "execution_count": null,
   "id": "fbafdbf5",
   "metadata": {},
   "outputs": [],
   "source": []
  },
  {
   "cell_type": "code",
   "execution_count": null,
   "id": "120a851d",
   "metadata": {},
   "outputs": [],
   "source": []
  },
  {
   "cell_type": "code",
   "execution_count": null,
   "id": "96b0b53c",
   "metadata": {},
   "outputs": [],
   "source": []
  },
  {
   "cell_type": "code",
   "execution_count": null,
   "id": "0a06d0d2",
   "metadata": {},
   "outputs": [],
   "source": []
  },
  {
   "cell_type": "code",
   "execution_count": null,
   "id": "f3de0c5f",
   "metadata": {},
   "outputs": [],
   "source": []
  },
  {
   "cell_type": "code",
   "execution_count": null,
   "id": "89f1993f",
   "metadata": {},
   "outputs": [],
   "source": []
  },
  {
   "cell_type": "code",
   "execution_count": null,
   "id": "6db7b699",
   "metadata": {},
   "outputs": [],
   "source": []
  },
  {
   "cell_type": "code",
   "execution_count": null,
   "id": "2aa9c799",
   "metadata": {},
   "outputs": [],
   "source": []
  },
  {
   "cell_type": "code",
   "execution_count": null,
   "id": "098ccb7f",
   "metadata": {},
   "outputs": [],
   "source": []
  },
  {
   "cell_type": "code",
   "execution_count": null,
   "id": "25363c07",
   "metadata": {},
   "outputs": [],
   "source": []
  },
  {
   "cell_type": "code",
   "execution_count": null,
   "id": "0dc793d8",
   "metadata": {},
   "outputs": [],
   "source": []
  },
  {
   "cell_type": "code",
   "execution_count": null,
   "id": "e0598b31",
   "metadata": {},
   "outputs": [],
   "source": []
  },
  {
   "cell_type": "code",
   "execution_count": null,
   "id": "aa9a3dc1",
   "metadata": {},
   "outputs": [],
   "source": []
  },
  {
   "cell_type": "code",
   "execution_count": null,
   "id": "ee46d4cb",
   "metadata": {},
   "outputs": [],
   "source": []
  },
  {
   "cell_type": "code",
   "execution_count": null,
   "id": "7c8bb153",
   "metadata": {},
   "outputs": [],
   "source": []
  },
  {
   "cell_type": "code",
   "execution_count": null,
   "id": "ad1e37f2",
   "metadata": {},
   "outputs": [],
   "source": []
  },
  {
   "cell_type": "code",
   "execution_count": null,
   "id": "3fd187a2",
   "metadata": {},
   "outputs": [],
   "source": []
  },
  {
   "cell_type": "code",
   "execution_count": null,
   "id": "53262715",
   "metadata": {},
   "outputs": [],
   "source": []
  },
  {
   "cell_type": "code",
   "execution_count": null,
   "id": "24a6ab16",
   "metadata": {},
   "outputs": [],
   "source": []
  },
  {
   "cell_type": "code",
   "execution_count": null,
   "id": "c7bb6618",
   "metadata": {},
   "outputs": [],
   "source": []
  },
  {
   "cell_type": "code",
   "execution_count": null,
   "id": "d92089d6",
   "metadata": {},
   "outputs": [],
   "source": []
  },
  {
   "cell_type": "code",
   "execution_count": null,
   "id": "a5bbee72",
   "metadata": {},
   "outputs": [],
   "source": []
  },
  {
   "cell_type": "code",
   "execution_count": null,
   "id": "0a97a115",
   "metadata": {},
   "outputs": [],
   "source": []
  },
  {
   "cell_type": "code",
   "execution_count": null,
   "id": "96295cd6",
   "metadata": {},
   "outputs": [],
   "source": []
  },
  {
   "cell_type": "code",
   "execution_count": null,
   "id": "33e91a27",
   "metadata": {},
   "outputs": [],
   "source": []
  },
  {
   "cell_type": "code",
   "execution_count": null,
   "id": "50136b54",
   "metadata": {},
   "outputs": [],
   "source": []
  },
  {
   "cell_type": "code",
   "execution_count": null,
   "id": "a6e03839",
   "metadata": {},
   "outputs": [],
   "source": []
  },
  {
   "cell_type": "code",
   "execution_count": null,
   "id": "80f2820b",
   "metadata": {},
   "outputs": [],
   "source": []
  },
  {
   "cell_type": "code",
   "execution_count": null,
   "id": "e08f5283",
   "metadata": {},
   "outputs": [],
   "source": []
  },
  {
   "cell_type": "code",
   "execution_count": null,
   "id": "6e03681c",
   "metadata": {},
   "outputs": [],
   "source": []
  },
  {
   "cell_type": "code",
   "execution_count": null,
   "id": "c32b381e",
   "metadata": {},
   "outputs": [],
   "source": []
  },
  {
   "cell_type": "code",
   "execution_count": null,
   "id": "38a6147e",
   "metadata": {},
   "outputs": [],
   "source": []
  },
  {
   "cell_type": "code",
   "execution_count": null,
   "id": "e60eaca9",
   "metadata": {},
   "outputs": [],
   "source": []
  }
 ],
 "metadata": {
  "kernelspec": {
   "display_name": "Python 3 (ipykernel)",
   "language": "python",
   "name": "python3"
  },
  "language_info": {
   "codemirror_mode": {
    "name": "ipython",
    "version": 3
   },
   "file_extension": ".py",
   "mimetype": "text/x-python",
   "name": "python",
   "nbconvert_exporter": "python",
   "pygments_lexer": "ipython3",
   "version": "3.9.12"
  }
 },
 "nbformat": 4,
 "nbformat_minor": 5
}
