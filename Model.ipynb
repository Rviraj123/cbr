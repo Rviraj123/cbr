{
 "cells": [
  {
   "cell_type": "code",
   "execution_count": 1,
   "id": "3abf962f",
   "metadata": {},
   "outputs": [],
   "source": [
    "#import pandas as pd\n",
    "#import numpy as np\n",
    "#import matplotlib.pyplot as plt\n",
    "#%matplotlib inline\n",
    "#import seaborn as sns\n",
    "\n",
    "# Data Analysing \n",
    "import pandas as pd\n",
    "import numpy as np\n",
    "\n",
    "# Graphical analysis\n",
    "import matplotlib.pyplot as plt\n",
    "%matplotlib inline\n",
    "import seaborn as sns\n",
    "import warnings\n",
    "warnings.filterwarnings('ignore')\n",
    "\n",
    "# for model building\n",
    "from sklearn.linear_model import LinearRegression,Ridge,Lasso\n",
    "from sklearn.svm import SVR\n",
    "from sklearn.metrics import accuracy_score,r2_score,mean_squared_error,mean_absolute_error\n",
    "from sklearn.model_selection import train_test_split\n",
    "from sklearn.preprocessing import StandardScaler\n",
    "from sklearn.ensemble import RandomForestRegressor\n",
    "from sklearn.tree import DecisionTreeRegressor\n",
    "from sklearn.ensemble import BaggingRegressor\n",
    "from sklearn.model_selection import RandomizedSearchCV\n",
    "\n",
    "# Database\n",
    "#import s2cbr.xlsx\n",
    "\n",
    "# save the model\n",
    "#import pickle\n"
   ]
  },
  {
   "cell_type": "code",
   "execution_count": 2,
   "id": "c967ef70",
   "metadata": {},
   "outputs": [
    {
     "data": {
      "text/plain": [
       "(123, 13)"
      ]
     },
     "execution_count": 2,
     "metadata": {},
     "output_type": "execute_result"
    }
   ],
   "source": [
    "data=pd.read_excel('s2cbr.xlsx')\n",
    "data.shape"
   ]
  },
  {
   "cell_type": "code",
   "execution_count": 3,
   "id": "254a78f8",
   "metadata": {},
   "outputs": [
    {
     "data": {
      "text/html": [
       "<div>\n",
       "<style scoped>\n",
       "    .dataframe tbody tr th:only-of-type {\n",
       "        vertical-align: middle;\n",
       "    }\n",
       "\n",
       "    .dataframe tbody tr th {\n",
       "        vertical-align: top;\n",
       "    }\n",
       "\n",
       "    .dataframe thead th {\n",
       "        text-align: right;\n",
       "    }\n",
       "</style>\n",
       "<table border=\"1\" class=\"dataframe\">\n",
       "  <thead>\n",
       "    <tr style=\"text-align: right;\">\n",
       "      <th></th>\n",
       "      <th>LL</th>\n",
       "      <th>PL</th>\n",
       "      <th>PI</th>\n",
       "      <th>OMC</th>\n",
       "      <th>SG</th>\n",
       "      <th>MDD</th>\n",
       "      <th>TS</th>\n",
       "      <th>P1</th>\n",
       "      <th>P2</th>\n",
       "      <th>P3</th>\n",
       "      <th>P4</th>\n",
       "      <th>NO. OF LAYER</th>\n",
       "      <th>CBR</th>\n",
       "    </tr>\n",
       "  </thead>\n",
       "  <tbody>\n",
       "    <tr>\n",
       "      <th>0</th>\n",
       "      <td>0</td>\n",
       "      <td>0</td>\n",
       "      <td>0.0</td>\n",
       "      <td>11.0</td>\n",
       "      <td>2.63</td>\n",
       "      <td>3.36</td>\n",
       "      <td>20.0</td>\n",
       "      <td>0.0</td>\n",
       "      <td>0.0</td>\n",
       "      <td>0.8</td>\n",
       "      <td>0.0</td>\n",
       "      <td>1</td>\n",
       "      <td>103.0</td>\n",
       "    </tr>\n",
       "    <tr>\n",
       "      <th>1</th>\n",
       "      <td>0</td>\n",
       "      <td>0</td>\n",
       "      <td>0.0</td>\n",
       "      <td>10.0</td>\n",
       "      <td>2.63</td>\n",
       "      <td>5.36</td>\n",
       "      <td>20.0</td>\n",
       "      <td>0.0</td>\n",
       "      <td>0.5</td>\n",
       "      <td>0.0</td>\n",
       "      <td>0.0</td>\n",
       "      <td>1</td>\n",
       "      <td>74.0</td>\n",
       "    </tr>\n",
       "    <tr>\n",
       "      <th>2</th>\n",
       "      <td>0</td>\n",
       "      <td>0</td>\n",
       "      <td>0.0</td>\n",
       "      <td>10.0</td>\n",
       "      <td>2.63</td>\n",
       "      <td>4.83</td>\n",
       "      <td>20.0</td>\n",
       "      <td>0.0</td>\n",
       "      <td>0.0</td>\n",
       "      <td>0.8</td>\n",
       "      <td>0.0</td>\n",
       "      <td>1</td>\n",
       "      <td>104.0</td>\n",
       "    </tr>\n",
       "    <tr>\n",
       "      <th>3</th>\n",
       "      <td>0</td>\n",
       "      <td>0</td>\n",
       "      <td>0.0</td>\n",
       "      <td>11.0</td>\n",
       "      <td>2.63</td>\n",
       "      <td>4.98</td>\n",
       "      <td>20.0</td>\n",
       "      <td>0.0</td>\n",
       "      <td>0.5</td>\n",
       "      <td>0.0</td>\n",
       "      <td>0.0</td>\n",
       "      <td>1</td>\n",
       "      <td>75.0</td>\n",
       "    </tr>\n",
       "    <tr>\n",
       "      <th>4</th>\n",
       "      <td>0</td>\n",
       "      <td>0</td>\n",
       "      <td>0.0</td>\n",
       "      <td>12.0</td>\n",
       "      <td>2.63</td>\n",
       "      <td>3.97</td>\n",
       "      <td>20.0</td>\n",
       "      <td>0.0</td>\n",
       "      <td>0.0</td>\n",
       "      <td>0.8</td>\n",
       "      <td>0.0</td>\n",
       "      <td>1</td>\n",
       "      <td>105.0</td>\n",
       "    </tr>\n",
       "  </tbody>\n",
       "</table>\n",
       "</div>"
      ],
      "text/plain": [
       "   LL  PL   PI   OMC    SG   MDD    TS   P1   P2   P3   P4  NO. OF LAYER  \\\n",
       "0   0   0  0.0  11.0  2.63  3.36  20.0  0.0  0.0  0.8  0.0             1   \n",
       "1   0   0  0.0  10.0  2.63  5.36  20.0  0.0  0.5  0.0  0.0             1   \n",
       "2   0   0  0.0  10.0  2.63  4.83  20.0  0.0  0.0  0.8  0.0             1   \n",
       "3   0   0  0.0  11.0  2.63  4.98  20.0  0.0  0.5  0.0  0.0             1   \n",
       "4   0   0  0.0  12.0  2.63  3.97  20.0  0.0  0.0  0.8  0.0             1   \n",
       "\n",
       "     CBR  \n",
       "0  103.0  \n",
       "1   74.0  \n",
       "2  104.0  \n",
       "3   75.0  \n",
       "4  105.0  "
      ]
     },
     "execution_count": 3,
     "metadata": {},
     "output_type": "execute_result"
    }
   ],
   "source": [
    "data.head()"
   ]
  },
  {
   "cell_type": "code",
   "execution_count": 4,
   "id": "9968de79",
   "metadata": {},
   "outputs": [
    {
     "data": {
      "text/plain": [
       "LL                int64\n",
       "PL                int64\n",
       "PI              float64\n",
       "OMC             float64\n",
       "SG              float64\n",
       "MDD             float64\n",
       "TS              float64\n",
       "P1              float64\n",
       "P2              float64\n",
       "P3              float64\n",
       "P4              float64\n",
       "NO. OF LAYER      int64\n",
       "CBR             float64\n",
       "dtype: object"
      ]
     },
     "execution_count": 4,
     "metadata": {},
     "output_type": "execute_result"
    }
   ],
   "source": [
    "data.dtypes"
   ]
  },
  {
   "cell_type": "code",
   "execution_count": 5,
   "id": "770abbf5",
   "metadata": {},
   "outputs": [
    {
     "data": {
      "text/plain": [
       "0"
      ]
     },
     "execution_count": 5,
     "metadata": {},
     "output_type": "execute_result"
    }
   ],
   "source": [
    "data.duplicated().sum()\n"
   ]
  },
  {
   "cell_type": "code",
   "execution_count": 6,
   "id": "2fef4ac5",
   "metadata": {},
   "outputs": [
    {
     "data": {
      "text/plain": [
       "LL              0\n",
       "PL              0\n",
       "PI              0\n",
       "OMC             0\n",
       "SG              0\n",
       "MDD             0\n",
       "TS              0\n",
       "P1              0\n",
       "P2              0\n",
       "P3              0\n",
       "P4              0\n",
       "NO. OF LAYER    0\n",
       "CBR             0\n",
       "dtype: int64"
      ]
     },
     "execution_count": 6,
     "metadata": {},
     "output_type": "execute_result"
    }
   ],
   "source": [
    "data.isna().sum()\n"
   ]
  },
  {
   "cell_type": "code",
   "execution_count": 7,
   "id": "f8c24444",
   "metadata": {},
   "outputs": [],
   "source": [
    "data = data.astype(float)"
   ]
  },
  {
   "cell_type": "code",
   "execution_count": 8,
   "id": "6560f9b9",
   "metadata": {},
   "outputs": [
    {
     "data": {
      "text/plain": [
       "LL              float64\n",
       "PL              float64\n",
       "PI              float64\n",
       "OMC             float64\n",
       "SG              float64\n",
       "MDD             float64\n",
       "TS              float64\n",
       "P1              float64\n",
       "P2              float64\n",
       "P3              float64\n",
       "P4              float64\n",
       "NO. OF LAYER    float64\n",
       "CBR             float64\n",
       "dtype: object"
      ]
     },
     "execution_count": 8,
     "metadata": {},
     "output_type": "execute_result"
    }
   ],
   "source": [
    "data.dtypes"
   ]
  },
  {
   "cell_type": "code",
   "execution_count": 9,
   "id": "40265254",
   "metadata": {},
   "outputs": [
    {
     "data": {
      "image/png": "[encoded data removed]",
      "text/plain": [
       "<Figure size 2448x2232 with 12 Axes>"
      ]
     },
     "metadata": {},
     "output_type": "display_data"
    }
   ],
   "source": [
    "# Let's see data distribution in each column\n",
    "plt.figure(figsize=(34,31), facecolor='white')\n",
    "plotnumber = 1\n",
    "\n",
    "for column in data.columns[:]:\n",
    "    if plotnumber<=12 :\n",
    "        ax = plt.subplot(7,5,plotnumber)\n",
    "        sns.distplot(data[column])\n",
    "        plt.xlabel(column,fontsize=25)\n",
    "    plotnumber+=1\n",
    "plt.show()"
   ]
  },
  {
   "cell_type": "code",
   "execution_count": 10,
   "id": "ced19e48",
   "metadata": {},
   "outputs": [
    {
     "data": {
      "text/html": [
       "<div>\n",
       "<style scoped>\n",
       "    .dataframe tbody tr th:only-of-type {\n",
       "        vertical-align: middle;\n",
       "    }\n",
       "\n",
       "    .dataframe tbody tr th {\n",
       "        vertical-align: top;\n",
       "    }\n",
       "\n",
       "    .dataframe thead th {\n",
       "        text-align: right;\n",
       "    }\n",
       "</style>\n",
       "<table border=\"1\" class=\"dataframe\">\n",
       "  <thead>\n",
       "    <tr style=\"text-align: right;\">\n",
       "      <th></th>\n",
       "      <th>count</th>\n",
       "      <th>mean</th>\n",
       "      <th>std</th>\n",
       "      <th>min</th>\n",
       "      <th>25%</th>\n",
       "      <th>50%</th>\n",
       "      <th>75%</th>\n",
       "      <th>max</th>\n",
       "    </tr>\n",
       "  </thead>\n",
       "  <tbody>\n",
       "    <tr>\n",
       "      <th>LL</th>\n",
       "      <td>123.0</td>\n",
       "      <td>36.975610</td>\n",
       "      <td>24.268128</td>\n",
       "      <td>0.0000</td>\n",
       "      <td>18.00</td>\n",
       "      <td>45.00</td>\n",
       "      <td>55.000</td>\n",
       "      <td>71.00</td>\n",
       "    </tr>\n",
       "    <tr>\n",
       "      <th>PL</th>\n",
       "      <td>123.0</td>\n",
       "      <td>23.910569</td>\n",
       "      <td>15.420344</td>\n",
       "      <td>0.0000</td>\n",
       "      <td>14.00</td>\n",
       "      <td>28.00</td>\n",
       "      <td>35.000</td>\n",
       "      <td>45.00</td>\n",
       "    </tr>\n",
       "    <tr>\n",
       "      <th>PI</th>\n",
       "      <td>123.0</td>\n",
       "      <td>13.728455</td>\n",
       "      <td>11.533902</td>\n",
       "      <td>0.0000</td>\n",
       "      <td>3.50</td>\n",
       "      <td>10.40</td>\n",
       "      <td>23.000</td>\n",
       "      <td>35.00</td>\n",
       "    </tr>\n",
       "    <tr>\n",
       "      <th>OMC</th>\n",
       "      <td>123.0</td>\n",
       "      <td>16.941463</td>\n",
       "      <td>7.948697</td>\n",
       "      <td>8.3000</td>\n",
       "      <td>12.00</td>\n",
       "      <td>13.90</td>\n",
       "      <td>18.000</td>\n",
       "      <td>35.00</td>\n",
       "    </tr>\n",
       "    <tr>\n",
       "      <th>SG</th>\n",
       "      <td>123.0</td>\n",
       "      <td>2.651626</td>\n",
       "      <td>0.042990</td>\n",
       "      <td>2.6000</td>\n",
       "      <td>2.63</td>\n",
       "      <td>2.63</td>\n",
       "      <td>2.690</td>\n",
       "      <td>2.77</td>\n",
       "    </tr>\n",
       "    <tr>\n",
       "      <th>MDD</th>\n",
       "      <td>123.0</td>\n",
       "      <td>11.765984</td>\n",
       "      <td>6.464870</td>\n",
       "      <td>0.0019</td>\n",
       "      <td>4.85</td>\n",
       "      <td>13.33</td>\n",
       "      <td>17.120</td>\n",
       "      <td>19.62</td>\n",
       "    </tr>\n",
       "    <tr>\n",
       "      <th>TS</th>\n",
       "      <td>123.0</td>\n",
       "      <td>18.369431</td>\n",
       "      <td>7.775770</td>\n",
       "      <td>2.8100</td>\n",
       "      <td>13.00</td>\n",
       "      <td>19.00</td>\n",
       "      <td>20.000</td>\n",
       "      <td>35.00</td>\n",
       "    </tr>\n",
       "    <tr>\n",
       "      <th>P1</th>\n",
       "      <td>123.0</td>\n",
       "      <td>0.186585</td>\n",
       "      <td>0.183753</td>\n",
       "      <td>0.0000</td>\n",
       "      <td>0.00</td>\n",
       "      <td>0.20</td>\n",
       "      <td>0.200</td>\n",
       "      <td>0.84</td>\n",
       "    </tr>\n",
       "    <tr>\n",
       "      <th>P2</th>\n",
       "      <td>123.0</td>\n",
       "      <td>0.249756</td>\n",
       "      <td>0.265075</td>\n",
       "      <td>0.0000</td>\n",
       "      <td>0.00</td>\n",
       "      <td>0.40</td>\n",
       "      <td>0.400</td>\n",
       "      <td>0.84</td>\n",
       "    </tr>\n",
       "    <tr>\n",
       "      <th>P3</th>\n",
       "      <td>123.0</td>\n",
       "      <td>0.261463</td>\n",
       "      <td>0.334048</td>\n",
       "      <td>0.0000</td>\n",
       "      <td>0.00</td>\n",
       "      <td>0.00</td>\n",
       "      <td>0.600</td>\n",
       "      <td>0.84</td>\n",
       "    </tr>\n",
       "    <tr>\n",
       "      <th>P4</th>\n",
       "      <td>123.0</td>\n",
       "      <td>0.143089</td>\n",
       "      <td>0.307843</td>\n",
       "      <td>0.0000</td>\n",
       "      <td>0.00</td>\n",
       "      <td>0.00</td>\n",
       "      <td>0.000</td>\n",
       "      <td>0.80</td>\n",
       "    </tr>\n",
       "    <tr>\n",
       "      <th>NO. OF LAYER</th>\n",
       "      <td>123.0</td>\n",
       "      <td>1.804878</td>\n",
       "      <td>1.171090</td>\n",
       "      <td>1.0000</td>\n",
       "      <td>1.00</td>\n",
       "      <td>1.00</td>\n",
       "      <td>2.000</td>\n",
       "      <td>4.00</td>\n",
       "    </tr>\n",
       "    <tr>\n",
       "      <th>CBR</th>\n",
       "      <td>123.0</td>\n",
       "      <td>17.628577</td>\n",
       "      <td>21.851406</td>\n",
       "      <td>1.0000</td>\n",
       "      <td>3.32</td>\n",
       "      <td>8.93</td>\n",
       "      <td>23.095</td>\n",
       "      <td>105.00</td>\n",
       "    </tr>\n",
       "  </tbody>\n",
       "</table>\n",
       "</div>"
      ],
      "text/plain": [
       "              count       mean        std     min    25%    50%     75%  \\\n",
       "LL            123.0  36.975610  24.268128  0.0000  18.00  45.00  55.000   \n",
       "PL            123.0  23.910569  15.420344  0.0000  14.00  28.00  35.000   \n",
       "PI            123.0  13.728455  11.533902  0.0000   3.50  10.40  23.000   \n",
       "OMC           123.0  16.941463   7.948697  8.3000  12.00  13.90  18.000   \n",
       "SG            123.0   2.651626   0.042990  2.6000   2.63   2.63   2.690   \n",
       "MDD           123.0  11.765984   6.464870  0.0019   4.85  13.33  17.120   \n",
       "TS            123.0  18.369431   7.775770  2.8100  13.00  19.00  20.000   \n",
       "P1            123.0   0.186585   0.183753  0.0000   0.00   0.20   0.200   \n",
       "P2            123.0   0.249756   0.265075  0.0000   0.00   0.40   0.400   \n",
       "P3            123.0   0.261463   0.334048  0.0000   0.00   0.00   0.600   \n",
       "P4            123.0   0.143089   0.307843  0.0000   0.00   0.00   0.000   \n",
       "NO. OF LAYER  123.0   1.804878   1.171090  1.0000   1.00   1.00   2.000   \n",
       "CBR           123.0  17.628577  21.851406  1.0000   3.32   8.93  23.095   \n",
       "\n",
       "                 max  \n",
       "LL             71.00  \n",
       "PL             45.00  \n",
       "PI             35.00  \n",
       "OMC            35.00  \n",
       "SG              2.77  \n",
       "MDD            19.62  \n",
       "TS             35.00  \n",
       "P1              0.84  \n",
       "P2              0.84  \n",
       "P3              0.84  \n",
       "P4              0.80  \n",
       "NO. OF LAYER    4.00  \n",
       "CBR           105.00  "
      ]
     },
     "execution_count": 10,
     "metadata": {},
     "output_type": "execute_result"
    }
   ],
   "source": [
    "data.describe().T"
   ]
  },
  {
   "cell_type": "code",
   "execution_count": 12,
   "id": "def585a2",
   "metadata": {},
   "outputs": [
    {
     "data": {
      "image/png": "[encoded data removed]",
      "text/plain": [
       "<Figure size 1080x1440 with 13 Axes>"
      ]
     },
     "metadata": {},
     "output_type": "display_data"
    }
   ],
   "source": [
    "#check the outliers\n",
    "plt.figure(figsize=(15,20),facecolor='White')\n",
    "plt.suptitle(\"Boxplot of all features\", fontweight = 'bold', fontsize = 15,y = 0.989)\n",
    "for i in range(0,len(data.columns)):\n",
    "    plt.subplot(5,3,i+1)\n",
    "    sns.boxplot(x = data.columns[i], data = data)\n",
    "    plt.xlabel(\"Boxplot of {}\".format(data.columns[i]),fontsize = 15)\n",
    "    plt.tight_layout()"
   ]
  },
  {
   "cell_type": "code",
   "execution_count": 14,
   "id": "8bf69132",
   "metadata": {},
   "outputs": [
    {
     "data": {
      "image/png": "[encoded data removed]",
      "text/plain": [
       "<Figure size 1008x288 with 2 Axes>"
      ]
     },
     "metadata": {
      "needs_background": "light"
     },
     "output_type": "display_data"
    },
    {
     "data": {
      "image/png": "[encoded data removed]",
      "text/plain": [
       "<Figure size 1008x288 with 2 Axes>"
      ]
     },
     "metadata": {
      "needs_background": "light"
     },
     "output_type": "display_data"
    },
    {
     "data": {
      "image/png": "[encoded data removed]",
      "text/plain": [
       "<Figure size 1008x288 with 2 Axes>"
      ]
     },
     "metadata": {
      "needs_background": "light"
     },
     "output_type": "display_data"
    },
    {
     "data": {
      "image/png": "[encoded data removed]",
      "text/plain": [
       "<Figure size 1008x288 with 2 Axes>"
      ]
     },
     "metadata": {
      "needs_background": "light"
     },
     "output_type": "display_data"
    },
    {
     "data": {
      "image/png": "[encoded data removed]",
      "text/plain": [
       "<Figure size 1008x288 with 2 Axes>"
      ]
     },
     "metadata": {
      "needs_background": "light"
     },
     "output_type": "display_data"
    },
    {
     "data": {
      "image/png": "[encoded data removed]",
      "text/plain": [
       "<Figure size 1008x288 with 2 Axes>"
      ]
     },
     "metadata": {
      "needs_background": "light"
     },
     "output_type": "display_data"
    },
    {
     "data": {
      "image/png": "[encoded data removed]",
      "text/plain": [
       "<Figure size 1008x288 with 2 Axes>"
      ]
     },
     "metadata": {
      "needs_background": "light"
     },
     "output_type": "display_data"
    },
    {
     "data": {
      "image/png": "[encoded data removed]",
      "text/plain": [
       "<Figure size 1008x288 with 2 Axes>"
      ]
     },
     "metadata": {
      "needs_background": "light"
     },
     "output_type": "display_data"
    },
    {
     "data": {
      "image/png": "[encoded data removed]",
      "text/plain": [
       "<Figure size 1008x288 with 2 Axes>"
      ]
     },
     "metadata": {
      "needs_background": "light"
     },
     "output_type": "display_data"
    },
    {
     "data": {
      "image/png": "[encoded data removed]",
      "text/plain": [
       "<Figure size 1008x288 with 2 Axes>"
      ]
     },
     "metadata": {
      "needs_background": "light"
     },
     "output_type": "display_data"
    },
    {
     "data": {
      "image/png": "[encoded data removed]",
      "text/plain": [
       "<Figure size 1008x288 with 2 Axes>"
      ]
     },
     "metadata": {
      "needs_background": "light"
     },
     "output_type": "display_data"
    },
    {
     "data": {
      "image/png": "[encoded data removed]",
      "text/plain": [
       "<Figure size 1008x288 with 2 Axes>"
      ]
     },
     "metadata": {
      "needs_background": "light"
     },
     "output_type": "display_data"
    },
    {
     "data": {
      "image/png": "[encoded data removed]",
      "text/plain": [
       "<Figure size 1008x288 with 2 Axes>"
      ]
     },
     "metadata": {
      "needs_background": "light"
     },
     "output_type": "display_data"
    }
   ],
   "source": [
    "# Handling the outliers\n",
    "df1 = data.copy()\n",
    "feature_to_use = df1.columns\n",
    "\n",
    "for i in range(len(feature_to_use)):\n",
    "    IQR = df1[feature_to_use[i]].quantile(0.75) - df1[feature_to_use[i]].quantile(0.25)\n",
    "    Lower_Limit = df1[feature_to_use[i]].quantile(0.25) - (1.5*IQR)\n",
    "    UPPER_LIMIT = df1[feature_to_use[i]].quantile(0.75) + (1.5*IQR)\n",
    "    df1[feature_to_use[i]]= np.where(df1[feature_to_use[i]]>UPPER_LIMIT,UPPER_LIMIT,\n",
    "                                np.where(df1[feature_to_use[i]]<Lower_Limit,Lower_Limit,df1[feature_to_use[i]]))\n",
    "\n",
    "\n",
    "for fea in feature_to_use:\n",
    "    plt.figure(figsize = (14,4))\n",
    "    plt.subplot(121)\n",
    "    sns.boxplot(x = fea, data = data)\n",
    "    plt.title(\"Boxplot of {} before handling outliers\".format(fea),fontweight = 'bold')\n",
    "\n",
    "    plt.subplot(122)\n",
    "    sns.boxplot(x = fea, data = df1)\n",
    "    plt.title(\"Boxplot of {} After handling outliers\".format(fea),fontweight = 'bold')\n",
    "    plt.show()\n"
   ]
  },
  {
   "cell_type": "code",
   "execution_count": 22,
   "id": "72e4a402",
   "metadata": {},
   "outputs": [
    {
     "data": {
      "text/html": [
       "<div>\n",
       "<style scoped>\n",
       "    .dataframe tbody tr th:only-of-type {\n",
       "        vertical-align: middle;\n",
       "    }\n",
       "\n",
       "    .dataframe tbody tr th {\n",
       "        vertical-align: top;\n",
       "    }\n",
       "\n",
       "    .dataframe thead th {\n",
       "        text-align: right;\n",
       "    }\n",
       "</style>\n",
       "<table border=\"1\" class=\"dataframe\">\n",
       "  <thead>\n",
       "    <tr style=\"text-align: right;\">\n",
       "      <th></th>\n",
       "      <th>count</th>\n",
       "      <th>mean</th>\n",
       "      <th>std</th>\n",
       "      <th>min</th>\n",
       "      <th>25%</th>\n",
       "      <th>50%</th>\n",
       "      <th>75%</th>\n",
       "      <th>max</th>\n",
       "    </tr>\n",
       "  </thead>\n",
       "  <tbody>\n",
       "    <tr>\n",
       "      <th>LL</th>\n",
       "      <td>123.0</td>\n",
       "      <td>36.975610</td>\n",
       "      <td>24.268128</td>\n",
       "      <td>0.0000</td>\n",
       "      <td>18.00</td>\n",
       "      <td>45.00</td>\n",
       "      <td>55.000</td>\n",
       "      <td>71.0000</td>\n",
       "    </tr>\n",
       "    <tr>\n",
       "      <th>PL</th>\n",
       "      <td>123.0</td>\n",
       "      <td>23.910569</td>\n",
       "      <td>15.420344</td>\n",
       "      <td>0.0000</td>\n",
       "      <td>14.00</td>\n",
       "      <td>28.00</td>\n",
       "      <td>35.000</td>\n",
       "      <td>45.0000</td>\n",
       "    </tr>\n",
       "    <tr>\n",
       "      <th>PI</th>\n",
       "      <td>123.0</td>\n",
       "      <td>13.728455</td>\n",
       "      <td>11.533902</td>\n",
       "      <td>0.0000</td>\n",
       "      <td>3.50</td>\n",
       "      <td>10.40</td>\n",
       "      <td>23.000</td>\n",
       "      <td>35.0000</td>\n",
       "    </tr>\n",
       "    <tr>\n",
       "      <th>OMC</th>\n",
       "      <td>123.0</td>\n",
       "      <td>15.803252</td>\n",
       "      <td>5.531163</td>\n",
       "      <td>8.3000</td>\n",
       "      <td>12.00</td>\n",
       "      <td>13.90</td>\n",
       "      <td>18.000</td>\n",
       "      <td>27.0000</td>\n",
       "    </tr>\n",
       "    <tr>\n",
       "      <th>SG</th>\n",
       "      <td>123.0</td>\n",
       "      <td>2.651626</td>\n",
       "      <td>0.042990</td>\n",
       "      <td>2.6000</td>\n",
       "      <td>2.63</td>\n",
       "      <td>2.63</td>\n",
       "      <td>2.690</td>\n",
       "      <td>2.7700</td>\n",
       "    </tr>\n",
       "    <tr>\n",
       "      <th>MDD</th>\n",
       "      <td>123.0</td>\n",
       "      <td>11.765984</td>\n",
       "      <td>6.464870</td>\n",
       "      <td>0.0019</td>\n",
       "      <td>4.85</td>\n",
       "      <td>13.33</td>\n",
       "      <td>17.120</td>\n",
       "      <td>19.6200</td>\n",
       "    </tr>\n",
       "    <tr>\n",
       "      <th>TS</th>\n",
       "      <td>123.0</td>\n",
       "      <td>18.223089</td>\n",
       "      <td>7.496503</td>\n",
       "      <td>2.8100</td>\n",
       "      <td>13.00</td>\n",
       "      <td>19.00</td>\n",
       "      <td>20.000</td>\n",
       "      <td>30.5000</td>\n",
       "    </tr>\n",
       "    <tr>\n",
       "      <th>P1</th>\n",
       "      <td>123.0</td>\n",
       "      <td>0.172764</td>\n",
       "      <td>0.141776</td>\n",
       "      <td>0.0000</td>\n",
       "      <td>0.00</td>\n",
       "      <td>0.20</td>\n",
       "      <td>0.200</td>\n",
       "      <td>0.5000</td>\n",
       "    </tr>\n",
       "    <tr>\n",
       "      <th>P2</th>\n",
       "      <td>123.0</td>\n",
       "      <td>0.249756</td>\n",
       "      <td>0.265075</td>\n",
       "      <td>0.0000</td>\n",
       "      <td>0.00</td>\n",
       "      <td>0.40</td>\n",
       "      <td>0.400</td>\n",
       "      <td>0.8400</td>\n",
       "    </tr>\n",
       "    <tr>\n",
       "      <th>P3</th>\n",
       "      <td>123.0</td>\n",
       "      <td>0.261463</td>\n",
       "      <td>0.334048</td>\n",
       "      <td>0.0000</td>\n",
       "      <td>0.00</td>\n",
       "      <td>0.00</td>\n",
       "      <td>0.600</td>\n",
       "      <td>0.8400</td>\n",
       "    </tr>\n",
       "    <tr>\n",
       "      <th>P4</th>\n",
       "      <td>123.0</td>\n",
       "      <td>0.000000</td>\n",
       "      <td>0.000000</td>\n",
       "      <td>0.0000</td>\n",
       "      <td>0.00</td>\n",
       "      <td>0.00</td>\n",
       "      <td>0.000</td>\n",
       "      <td>0.0000</td>\n",
       "    </tr>\n",
       "    <tr>\n",
       "      <th>NO. OF LAYER</th>\n",
       "      <td>123.0</td>\n",
       "      <td>1.715447</td>\n",
       "      <td>1.006294</td>\n",
       "      <td>1.0000</td>\n",
       "      <td>1.00</td>\n",
       "      <td>1.00</td>\n",
       "      <td>2.000</td>\n",
       "      <td>3.5000</td>\n",
       "    </tr>\n",
       "    <tr>\n",
       "      <th>CBR</th>\n",
       "      <td>123.0</td>\n",
       "      <td>15.415711</td>\n",
       "      <td>15.221937</td>\n",
       "      <td>1.0000</td>\n",
       "      <td>3.32</td>\n",
       "      <td>8.93</td>\n",
       "      <td>23.095</td>\n",
       "      <td>52.7575</td>\n",
       "    </tr>\n",
       "  </tbody>\n",
       "</table>\n",
       "</div>"
      ],
      "text/plain": [
       "              count       mean        std     min    25%    50%     75%  \\\n",
       "LL            123.0  36.975610  24.268128  0.0000  18.00  45.00  55.000   \n",
       "PL            123.0  23.910569  15.420344  0.0000  14.00  28.00  35.000   \n",
       "PI            123.0  13.728455  11.533902  0.0000   3.50  10.40  23.000   \n",
       "OMC           123.0  15.803252   5.531163  8.3000  12.00  13.90  18.000   \n",
       "SG            123.0   2.651626   0.042990  2.6000   2.63   2.63   2.690   \n",
       "MDD           123.0  11.765984   6.464870  0.0019   4.85  13.33  17.120   \n",
       "TS            123.0  18.223089   7.496503  2.8100  13.00  19.00  20.000   \n",
       "P1            123.0   0.172764   0.141776  0.0000   0.00   0.20   0.200   \n",
       "P2            123.0   0.249756   0.265075  0.0000   0.00   0.40   0.400   \n",
       "P3            123.0   0.261463   0.334048  0.0000   0.00   0.00   0.600   \n",
       "P4            123.0   0.000000   0.000000  0.0000   0.00   0.00   0.000   \n",
       "NO. OF LAYER  123.0   1.715447   1.006294  1.0000   1.00   1.00   2.000   \n",
       "CBR           123.0  15.415711  15.221937  1.0000   3.32   8.93  23.095   \n",
       "\n",
       "                  max  \n",
       "LL            71.0000  \n",
       "PL            45.0000  \n",
       "PI            35.0000  \n",
       "OMC           27.0000  \n",
       "SG             2.7700  \n",
       "MDD           19.6200  \n",
       "TS            30.5000  \n",
       "P1             0.5000  \n",
       "P2             0.8400  \n",
       "P3             0.8400  \n",
       "P4             0.0000  \n",
       "NO. OF LAYER   3.5000  \n",
       "CBR           52.7575  "
      ]
     },
     "execution_count": 22,
     "metadata": {},
     "output_type": "execute_result"
    }
   ],
   "source": [
    "df1.describe().T"
   ]
  },
  {
   "cell_type": "markdown",
   "id": "2e8e485f",
   "metadata": {},
   "source": [
    "## seperate independent and dependent features"
   ]
  },
  {
   "cell_type": "code",
   "execution_count": 23,
   "id": "5088ff87",
   "metadata": {},
   "outputs": [],
   "source": [
    "x = df1.iloc[:,:-1]\n",
    "y = df1['CBR']"
   ]
  },
  {
   "cell_type": "code",
   "execution_count": 24,
   "id": "a3103b79",
   "metadata": {},
   "outputs": [
    {
     "data": {
      "text/plain": [
       "((123, 12), (123,))"
      ]
     },
     "execution_count": 24,
     "metadata": {},
     "output_type": "execute_result"
    }
   ],
   "source": [
    "x.shape,y.shape"
   ]
  },
  {
   "cell_type": "markdown",
   "id": "ec208c8d",
   "metadata": {},
   "source": [
    "## Train test split"
   ]
  },
  {
   "cell_type": "code",
   "execution_count": 25,
   "id": "e51d36b6",
   "metadata": {},
   "outputs": [],
   "source": [
    "x_train,x_test,y_train,y_test = train_test_split(x,y,test_size = 0.33,random_state = 42 )"
   ]
  },
  {
   "cell_type": "code",
   "execution_count": 26,
   "id": "3b8873d7",
   "metadata": {},
   "outputs": [
    {
     "data": {
      "text/plain": [
       "((82, 12), (82,))"
      ]
     },
     "execution_count": 26,
     "metadata": {},
     "output_type": "execute_result"
    }
   ],
   "source": [
    "x_train.shape,y_train.shape"
   ]
  },
  {
   "cell_type": "code",
   "execution_count": 27,
   "id": "1fbeea1a",
   "metadata": {},
   "outputs": [
    {
     "data": {
      "text/plain": [
       "((41, 12), (41,))"
      ]
     },
     "execution_count": 27,
     "metadata": {},
     "output_type": "execute_result"
    }
   ],
   "source": [
    "x_test.shape,y_test.shape"
   ]
  },
  {
   "cell_type": "markdown",
   "id": "21c88734",
   "metadata": {},
   "source": [
    "## Standarization"
   ]
  },
  {
   "cell_type": "code",
   "execution_count": 28,
   "id": "2351bf36",
   "metadata": {},
   "outputs": [],
   "source": [
    "scaler = StandardScaler()\n",
    "x_train = scaler.fit_transform(x_train)\n",
    "x_test = scaler.fit_transform(x_test)"
   ]
  },
  {
   "cell_type": "code",
   "execution_count": 29,
   "id": "2f36bede",
   "metadata": {},
   "outputs": [
    {
     "data": {
      "text/html": [
       "<div>\n",
       "<style scoped>\n",
       "    .dataframe tbody tr th:only-of-type {\n",
       "        vertical-align: middle;\n",
       "    }\n",
       "\n",
       "    .dataframe tbody tr th {\n",
       "        vertical-align: top;\n",
       "    }\n",
       "\n",
       "    .dataframe thead th {\n",
       "        text-align: right;\n",
       "    }\n",
       "</style>\n",
       "<table border=\"1\" class=\"dataframe\">\n",
       "  <thead>\n",
       "    <tr style=\"text-align: right;\">\n",
       "      <th></th>\n",
       "      <th>count</th>\n",
       "      <th>mean</th>\n",
       "      <th>std</th>\n",
       "      <th>min</th>\n",
       "      <th>25%</th>\n",
       "      <th>50%</th>\n",
       "      <th>75%</th>\n",
       "      <th>max</th>\n",
       "    </tr>\n",
       "  </thead>\n",
       "  <tbody>\n",
       "    <tr>\n",
       "      <th>LL</th>\n",
       "      <td>123.0</td>\n",
       "      <td>36.975610</td>\n",
       "      <td>24.268128</td>\n",
       "      <td>0.0000</td>\n",
       "      <td>18.00</td>\n",
       "      <td>45.00</td>\n",
       "      <td>55.000</td>\n",
       "      <td>71.0000</td>\n",
       "    </tr>\n",
       "    <tr>\n",
       "      <th>PL</th>\n",
       "      <td>123.0</td>\n",
       "      <td>23.910569</td>\n",
       "      <td>15.420344</td>\n",
       "      <td>0.0000</td>\n",
       "      <td>14.00</td>\n",
       "      <td>28.00</td>\n",
       "      <td>35.000</td>\n",
       "      <td>45.0000</td>\n",
       "    </tr>\n",
       "    <tr>\n",
       "      <th>PI</th>\n",
       "      <td>123.0</td>\n",
       "      <td>13.728455</td>\n",
       "      <td>11.533902</td>\n",
       "      <td>0.0000</td>\n",
       "      <td>3.50</td>\n",
       "      <td>10.40</td>\n",
       "      <td>23.000</td>\n",
       "      <td>35.0000</td>\n",
       "    </tr>\n",
       "    <tr>\n",
       "      <th>OMC</th>\n",
       "      <td>123.0</td>\n",
       "      <td>15.803252</td>\n",
       "      <td>5.531163</td>\n",
       "      <td>8.3000</td>\n",
       "      <td>12.00</td>\n",
       "      <td>13.90</td>\n",
       "      <td>18.000</td>\n",
       "      <td>27.0000</td>\n",
       "    </tr>\n",
       "    <tr>\n",
       "      <th>SG</th>\n",
       "      <td>123.0</td>\n",
       "      <td>2.651626</td>\n",
       "      <td>0.042990</td>\n",
       "      <td>2.6000</td>\n",
       "      <td>2.63</td>\n",
       "      <td>2.63</td>\n",
       "      <td>2.690</td>\n",
       "      <td>2.7700</td>\n",
       "    </tr>\n",
       "    <tr>\n",
       "      <th>MDD</th>\n",
       "      <td>123.0</td>\n",
       "      <td>11.765984</td>\n",
       "      <td>6.464870</td>\n",
       "      <td>0.0019</td>\n",
       "      <td>4.85</td>\n",
       "      <td>13.33</td>\n",
       "      <td>17.120</td>\n",
       "      <td>19.6200</td>\n",
       "    </tr>\n",
       "    <tr>\n",
       "      <th>TS</th>\n",
       "      <td>123.0</td>\n",
       "      <td>18.223089</td>\n",
       "      <td>7.496503</td>\n",
       "      <td>2.8100</td>\n",
       "      <td>13.00</td>\n",
       "      <td>19.00</td>\n",
       "      <td>20.000</td>\n",
       "      <td>30.5000</td>\n",
       "    </tr>\n",
       "    <tr>\n",
       "      <th>P1</th>\n",
       "      <td>123.0</td>\n",
       "      <td>0.172764</td>\n",
       "      <td>0.141776</td>\n",
       "      <td>0.0000</td>\n",
       "      <td>0.00</td>\n",
       "      <td>0.20</td>\n",
       "      <td>0.200</td>\n",
       "      <td>0.5000</td>\n",
       "    </tr>\n",
       "    <tr>\n",
       "      <th>P2</th>\n",
       "      <td>123.0</td>\n",
       "      <td>0.249756</td>\n",
       "      <td>0.265075</td>\n",
       "      <td>0.0000</td>\n",
       "      <td>0.00</td>\n",
       "      <td>0.40</td>\n",
       "      <td>0.400</td>\n",
       "      <td>0.8400</td>\n",
       "    </tr>\n",
       "    <tr>\n",
       "      <th>P3</th>\n",
       "      <td>123.0</td>\n",
       "      <td>0.261463</td>\n",
       "      <td>0.334048</td>\n",
       "      <td>0.0000</td>\n",
       "      <td>0.00</td>\n",
       "      <td>0.00</td>\n",
       "      <td>0.600</td>\n",
       "      <td>0.8400</td>\n",
       "    </tr>\n",
       "    <tr>\n",
       "      <th>P4</th>\n",
       "      <td>123.0</td>\n",
       "      <td>0.000000</td>\n",
       "      <td>0.000000</td>\n",
       "      <td>0.0000</td>\n",
       "      <td>0.00</td>\n",
       "      <td>0.00</td>\n",
       "      <td>0.000</td>\n",
       "      <td>0.0000</td>\n",
       "    </tr>\n",
       "    <tr>\n",
       "      <th>NO. OF LAYER</th>\n",
       "      <td>123.0</td>\n",
       "      <td>1.715447</td>\n",
       "      <td>1.006294</td>\n",
       "      <td>1.0000</td>\n",
       "      <td>1.00</td>\n",
       "      <td>1.00</td>\n",
       "      <td>2.000</td>\n",
       "      <td>3.5000</td>\n",
       "    </tr>\n",
       "    <tr>\n",
       "      <th>CBR</th>\n",
       "      <td>123.0</td>\n",
       "      <td>15.415711</td>\n",
       "      <td>15.221937</td>\n",
       "      <td>1.0000</td>\n",
       "      <td>3.32</td>\n",
       "      <td>8.93</td>\n",
       "      <td>23.095</td>\n",
       "      <td>52.7575</td>\n",
       "    </tr>\n",
       "  </tbody>\n",
       "</table>\n",
       "</div>"
      ],
      "text/plain": [
       "              count       mean        std     min    25%    50%     75%  \\\n",
       "LL            123.0  36.975610  24.268128  0.0000  18.00  45.00  55.000   \n",
       "PL            123.0  23.910569  15.420344  0.0000  14.00  28.00  35.000   \n",
       "PI            123.0  13.728455  11.533902  0.0000   3.50  10.40  23.000   \n",
       "OMC           123.0  15.803252   5.531163  8.3000  12.00  13.90  18.000   \n",
       "SG            123.0   2.651626   0.042990  2.6000   2.63   2.63   2.690   \n",
       "MDD           123.0  11.765984   6.464870  0.0019   4.85  13.33  17.120   \n",
       "TS            123.0  18.223089   7.496503  2.8100  13.00  19.00  20.000   \n",
       "P1            123.0   0.172764   0.141776  0.0000   0.00   0.20   0.200   \n",
       "P2            123.0   0.249756   0.265075  0.0000   0.00   0.40   0.400   \n",
       "P3            123.0   0.261463   0.334048  0.0000   0.00   0.00   0.600   \n",
       "P4            123.0   0.000000   0.000000  0.0000   0.00   0.00   0.000   \n",
       "NO. OF LAYER  123.0   1.715447   1.006294  1.0000   1.00   1.00   2.000   \n",
       "CBR           123.0  15.415711  15.221937  1.0000   3.32   8.93  23.095   \n",
       "\n",
       "                  max  \n",
       "LL            71.0000  \n",
       "PL            45.0000  \n",
       "PI            35.0000  \n",
       "OMC           27.0000  \n",
       "SG             2.7700  \n",
       "MDD           19.6200  \n",
       "TS            30.5000  \n",
       "P1             0.5000  \n",
       "P2             0.8400  \n",
       "P3             0.8400  \n",
       "P4             0.0000  \n",
       "NO. OF LAYER   3.5000  \n",
       "CBR           52.7575  "
      ]
     },
     "execution_count": 29,
     "metadata": {},
     "output_type": "execute_result"
    }
   ],
   "source": [
    "df1.describe().T"
   ]
  },
  {
   "cell_type": "markdown",
   "id": "063e1249",
   "metadata": {},
   "source": [
    "## Model Building"
   ]
  },
  {
   "cell_type": "code",
   "execution_count": 30,
   "id": "c7377c84",
   "metadata": {},
   "outputs": [],
   "source": [
    "report = []"
   ]
  },
  {
   "cell_type": "code",
   "execution_count": 31,
   "id": "66a2a4d6",
   "metadata": {},
   "outputs": [
    {
     "data": {
      "text/html": [
       "<div>\n",
       "<style scoped>\n",
       "    .dataframe tbody tr th:only-of-type {\n",
       "        vertical-align: middle;\n",
       "    }\n",
       "\n",
       "    .dataframe tbody tr th {\n",
       "        vertical-align: top;\n",
       "    }\n",
       "\n",
       "    .dataframe thead th {\n",
       "        text-align: right;\n",
       "    }\n",
       "</style>\n",
       "<table border=\"1\" class=\"dataframe\">\n",
       "  <thead>\n",
       "    <tr style=\"text-align: right;\">\n",
       "      <th></th>\n",
       "      <th>model</th>\n",
       "      <th>Train Mean Squared Error</th>\n",
       "      <th>Test Mean Squared Error</th>\n",
       "      <th>Train Mean Absolute Error</th>\n",
       "      <th>Test Mean Absolute Error</th>\n",
       "      <th>Train R Sqaure</th>\n",
       "      <th>Test R Sqaure</th>\n",
       "      <th>Train Adj R Sqaure</th>\n",
       "      <th>Test Adj R Sqaure</th>\n",
       "    </tr>\n",
       "  </thead>\n",
       "  <tbody>\n",
       "    <tr>\n",
       "      <th>0</th>\n",
       "      <td>Linear Regression</td>\n",
       "      <td>56.535248</td>\n",
       "      <td>61.712820</td>\n",
       "      <td>5.349891</td>\n",
       "      <td>6.549624</td>\n",
       "      <td>0.769655</td>\n",
       "      <td>0.688888</td>\n",
       "      <td>0.729594</td>\n",
       "      <td>0.555554</td>\n",
       "    </tr>\n",
       "    <tr>\n",
       "      <th>1</th>\n",
       "      <td>Ridge Regression</td>\n",
       "      <td>60.573954</td>\n",
       "      <td>64.992363</td>\n",
       "      <td>5.593072</td>\n",
       "      <td>6.556509</td>\n",
       "      <td>0.753199</td>\n",
       "      <td>0.672355</td>\n",
       "      <td>0.710278</td>\n",
       "      <td>0.531935</td>\n",
       "    </tr>\n",
       "    <tr>\n",
       "      <th>2</th>\n",
       "      <td>Lasso Regression</td>\n",
       "      <td>86.576562</td>\n",
       "      <td>77.516049</td>\n",
       "      <td>7.507878</td>\n",
       "      <td>7.020974</td>\n",
       "      <td>0.647255</td>\n",
       "      <td>0.609219</td>\n",
       "      <td>0.585908</td>\n",
       "      <td>0.441742</td>\n",
       "    </tr>\n",
       "    <tr>\n",
       "      <th>3</th>\n",
       "      <td>Support Vector Regression</td>\n",
       "      <td>170.318258</td>\n",
       "      <td>148.574888</td>\n",
       "      <td>8.765681</td>\n",
       "      <td>8.313570</td>\n",
       "      <td>0.306061</td>\n",
       "      <td>0.250991</td>\n",
       "      <td>0.185375</td>\n",
       "      <td>-0.070013</td>\n",
       "    </tr>\n",
       "    <tr>\n",
       "      <th>4</th>\n",
       "      <td>Decision Tree Regressor</td>\n",
       "      <td>3.745101</td>\n",
       "      <td>25.186743</td>\n",
       "      <td>0.588955</td>\n",
       "      <td>3.040993</td>\n",
       "      <td>0.984741</td>\n",
       "      <td>0.873026</td>\n",
       "      <td>0.982087</td>\n",
       "      <td>0.818609</td>\n",
       "    </tr>\n",
       "    <tr>\n",
       "      <th>5</th>\n",
       "      <td>Random Forest Regressor</td>\n",
       "      <td>5.286852</td>\n",
       "      <td>12.357370</td>\n",
       "      <td>1.274052</td>\n",
       "      <td>2.503630</td>\n",
       "      <td>0.978459</td>\n",
       "      <td>0.937703</td>\n",
       "      <td>0.974713</td>\n",
       "      <td>0.911004</td>\n",
       "    </tr>\n",
       "  </tbody>\n",
       "</table>\n",
       "</div>"
      ],
      "text/plain": [
       "                       model  Train Mean Squared Error   \\\n",
       "0          Linear Regression                  56.535248   \n",
       "1           Ridge Regression                  60.573954   \n",
       "2           Lasso Regression                  86.576562   \n",
       "3  Support Vector Regression                 170.318258   \n",
       "4    Decision Tree Regressor                   3.745101   \n",
       "5    Random Forest Regressor                   5.286852   \n",
       "\n",
       "   Test Mean Squared Error  Train Mean Absolute Error  \\\n",
       "0                61.712820                   5.349891   \n",
       "1                64.992363                   5.593072   \n",
       "2                77.516049                   7.507878   \n",
       "3               148.574888                   8.765681   \n",
       "4                25.186743                   0.588955   \n",
       "5                12.357370                   1.274052   \n",
       "\n",
       "   Test Mean Absolute Error  Train R Sqaure  Test R Sqaure  \\\n",
       "0                  6.549624        0.769655       0.688888   \n",
       "1                  6.556509        0.753199       0.672355   \n",
       "2                  7.020974        0.647255       0.609219   \n",
       "3                  8.313570        0.306061       0.250991   \n",
       "4                  3.040993        0.984741       0.873026   \n",
       "5                  2.503630        0.978459       0.937703   \n",
       "\n",
       "   Train Adj R Sqaure  Test Adj R Sqaure  \n",
       "0            0.729594           0.555554  \n",
       "1            0.710278           0.531935  \n",
       "2            0.585908           0.441742  \n",
       "3            0.185375          -0.070013  \n",
       "4            0.982087           0.818609  \n",
       "5            0.974713           0.911004  "
      ]
     },
     "execution_count": 31,
     "metadata": {},
     "output_type": "execute_result"
    }
   ],
   "source": [
    "models = {\n",
    "    \"Linear Regression\" : LinearRegression(),\n",
    "    \"Ridge Regression\" : Ridge(),\n",
    "    \"Lasso Regression\" : Lasso(),\n",
    "    \"Support Vector Regression\" : SVR(),\n",
    "    \"Decision Tree Regressor\" : DecisionTreeRegressor(),\n",
    "    \"Random Forest Regressor\" : RandomForestRegressor()\n",
    "}\n",
    "\n",
    "for i in range(len(list(models))):\n",
    "    model = list(models.values())[i]\n",
    "    model.fit(x_train,y_train)   # Training Model\n",
    "\n",
    "    # Prediction\n",
    "    y_train_pred = model.predict(x_train)\n",
    "    y_test_pred = model.predict(x_test)\n",
    "\n",
    "    # Training Data perfomance Matrix\n",
    "    model_train_mse = mean_squared_error(y_train,y_train_pred)   # Calculate MSE\n",
    "    model_train_mae = mean_absolute_error(y_train,y_train_pred)  # Calculate MAE\n",
    "    model_train_r2 = r2_score(y_train,y_train_pred)              # Calculate 2 sqaure\n",
    "    model_train_ad_r2 = 1 - (1-model_train_r2)*(len(y_train)-1) / (len(y_train)- x_train.shape[1] - 1)\n",
    "\n",
    "    \n",
    "    # Test Data perfomance Matrix\n",
    "    model_test_mse = mean_squared_error(y_test,y_test_pred)   # Calculate MSE\n",
    "    model_test_mae = mean_absolute_error(y_test,y_test_pred)  # Calculate MAE\n",
    "    model_test_r2 = r2_score(y_test,y_test_pred)              # Calculate 2 sqaure\n",
    "    model_test_ad_r2 = 1 - (1-model_test_r2)*(len(y_test)-1) / (len(y_test)- x_test.shape[1] - 1)\n",
    "    # print(\"\\n\")\n",
    "    # print((list(models.keys()))[i])\n",
    "\n",
    "    # print(\"Model Performance For Training Data\")\n",
    "    # print(\"-Mean Squared Error : {:4f}\".format(model_train_mse))\n",
    "    # print(\"-Mean Absolute Error : {:.4f}\".format(model_train_mae))\n",
    "    # print(\"-R Sqaure : {:.4f}\".format(model_train_r2))\n",
    "    # print(\"-Adj R Sqaure : {:.4f}\".format(model_train_ad_r2))\n",
    "\n",
    "    # print(\"-----------------------------------------------------------------------\")\n",
    "\n",
    "    # print(\"Model Performance For Test Data\")\n",
    "    # print(\"-Mean Squared Error : {:4f}\".format(model_test_mse))\n",
    "    # print(\"-Mean Absolute Error : {:.4f}\".format(model_test_mae))\n",
    "    # print(\"-R Sqaure : {:.4f}\".format(model_test_r2))\n",
    "    # print(\"-Adj R Sqaure : {:.4f}\".format(model_test_ad_r2))\n",
    "\n",
    "    # print(\"=\"*80)\n",
    "\n",
    "    report.append({\n",
    "                    \"model\" : (list(models.keys()))[i],\n",
    "                    'Train Mean Squared Error ' : model_train_mse,\n",
    "                    'Test Mean Squared Error' : model_test_mse,\n",
    "                    'Train Mean Absolute Error' : model_train_mae,\n",
    "                    'Test Mean Absolute Error' : model_test_mae,\n",
    "                    'Train R Sqaure' : model_train_r2,\n",
    "                    'Test R Sqaure' : model_test_r2,\n",
    "                    'Train Adj R Sqaure' : model_train_ad_r2,\n",
    "                    'Test Adj R Sqaure' : model_test_ad_r2\n",
    "    })\n",
    "\n",
    "all_model = pd.DataFrame(report)\n",
    "all_model"
   ]
  },
  {
   "cell_type": "markdown",
   "id": "af7d45bb",
   "metadata": {},
   "source": [
    "## Hyper-Parameter Tunning on RandomSearchCV"
   ]
  },
  {
   "cell_type": "code",
   "execution_count": 32,
   "id": "9465834e",
   "metadata": {},
   "outputs": [],
   "source": [
    "Ran_param = {\n",
    "    \"max_depth\" : [5,8,15,None,10],\n",
    "    'max_features' : [3,'auto'],\n",
    "    'min_samples_split' : [2,8,15,20],\n",
    "    'n_estimators' : [50,100,200,500]\n",
    "}"
   ]
  },
  {
   "cell_type": "code",
   "execution_count": 33,
   "id": "6ea61455",
   "metadata": {},
   "outputs": [],
   "source": [
    "random = RandomizedSearchCV(estimator = RandomForestRegressor(),\n",
    "                   param_distributions = Ran_param,\n",
    "                   n_iter= 100,\n",
    "                   cv = 3,\n",
    "                   verbose = 2,\n",
    "                   n_jobs=-1)"
   ]
  },
  {
   "cell_type": "code",
   "execution_count": 34,
   "id": "2038984b",
   "metadata": {},
   "outputs": [
    {
     "name": "stdout",
     "output_type": "stream",
     "text": [
      "Fitting 3 folds for each of 100 candidates, totalling 300 fits\n"
     ]
    },
    {
     "data": {
      "text/plain": [
       "RandomizedSearchCV(cv=3, estimator=RandomForestRegressor(), n_iter=100,\n",
       "                   n_jobs=-1,\n",
       "                   param_distributions={'max_depth': [5, 8, 15, None, 10],\n",
       "                                        'max_features': [3, 'auto'],\n",
       "                                        'min_samples_split': [2, 8, 15, 20],\n",
       "                                        'n_estimators': [50, 100, 200, 500]},\n",
       "                   verbose=2)"
      ]
     },
     "execution_count": 34,
     "metadata": {},
     "output_type": "execute_result"
    }
   ],
   "source": [
    "random.fit(x_train,y_train)"
   ]
  },
  {
   "cell_type": "code",
   "execution_count": 35,
   "id": "f83a2bdb",
   "metadata": {},
   "outputs": [
    {
     "data": {
      "text/plain": [
       "({'n_estimators': 50,\n",
       "  'min_samples_split': 2,\n",
       "  'max_features': 'auto',\n",
       "  'max_depth': 10},\n",
       " RandomForestRegressor(max_depth=10, n_estimators=50))"
      ]
     },
     "execution_count": 35,
     "metadata": {},
     "output_type": "execute_result"
    }
   ],
   "source": [
    "random.best_params_,random.best_estimator_"
   ]
  },
  {
   "cell_type": "code",
   "execution_count": 36,
   "id": "a393e64c",
   "metadata": {},
   "outputs": [
    {
     "name": "stdout",
     "output_type": "stream",
     "text": [
      "\n",
      "\n",
      "Hyperparameter tuning on random forest\n",
      "Model Performance For Training Data\n",
      "-Mean Squared Error : 58.154340\n",
      "-Mean Absolute Error : 5.2276\n",
      "-R Sqaure : 0.7631\n",
      "-Adj R Sqaure : 0.7219\n",
      "-----------------------------------------------------------------------\n",
      "Model Performance For Test Data\n",
      "-Mean Squared Error : 65.393175\n",
      "-Mean Absolute Error : 5.9611\n",
      "-R Sqaure : 0.6703\n",
      "-Adj R Sqaure : 0.5290\n"
     ]
    }
   ],
   "source": [
    "rf_best_para = RandomForestRegressor(max_depth=10, max_features=3, min_samples_split=20,\n",
    "                                    n_estimators=200)\n",
    "\n",
    "rf_best_para.fit(x_train,y_train)\n",
    "\n",
    "# make predictions\n",
    "rf_pred_train = rf_best_para.predict(x_train)\n",
    "rf_pred_test = rf_best_para.predict(x_test)\n",
    "\n",
    "# Training dataset performance matrix\n",
    "rf_train_mse = mean_squared_error(y_train,rf_pred_train)   # Calculate MSE\n",
    "rf_train_mae = mean_absolute_error(y_train,rf_pred_train)  # Calculate MAE\n",
    "rf_train_r2 = r2_score(y_train,rf_pred_train)              # Calculate 2 sqaure\n",
    "rf_train_ad_r2 = 1 - (1-rf_train_r2)*(len(y_train)-1) / (len(y_train)- x_train.shape[1] - 1)\n",
    "\n",
    "\n",
    "# Test Data perfomance Matrix\n",
    "rf_test_mse = mean_squared_error(y_test,rf_pred_test)   # Calculate MSE\n",
    "rf_test_mae = mean_absolute_error(y_test,rf_pred_test)  # Calculate MAE\n",
    "rf_test_r2 = r2_score(y_test,rf_pred_test)              # Calculate 2 sqaure\n",
    "rf_test_ad_r2 = 1 - (1-rf_test_r2)*(len(y_test)-1) / (len(y_test)- x_test.shape[1] - 1)\n",
    "\n",
    "print(\"\\n\")\n",
    "print(\"Hyperparameter tuning on random forest\")\n",
    "\n",
    "print(\"Model Performance For Training Data\")\n",
    "print(\"-Mean Squared Error : {:4f}\".format(rf_train_mse))\n",
    "print(\"-Mean Absolute Error : {:.4f}\".format(rf_train_mae))\n",
    "print(\"-R Sqaure : {:.4f}\".format(rf_train_r2))\n",
    "print(\"-Adj R Sqaure : {:.4f}\".format(rf_train_ad_r2))\n",
    "\n",
    "print(\"-----------------------------------------------------------------------\")\n",
    "\n",
    "print(\"Model Performance For Test Data\")\n",
    "print(\"-Mean Squared Error : {:4f}\".format(rf_test_mse))\n",
    "print(\"-Mean Absolute Error : {:.4f}\".format(rf_test_mae))\n",
    "print(\"-R Sqaure : {:.4f}\".format(rf_test_r2))\n",
    "print(\"-Adj R Sqaure : {:.4f}\".format(rf_test_ad_r2))"
   ]
  },
  {
   "cell_type": "code",
   "execution_count": 37,
   "id": "7e8c4e1d",
   "metadata": {},
   "outputs": [
    {
     "data": {
      "text/html": [
       "<div>\n",
       "<style scoped>\n",
       "    .dataframe tbody tr th:only-of-type {\n",
       "        vertical-align: middle;\n",
       "    }\n",
       "\n",
       "    .dataframe tbody tr th {\n",
       "        vertical-align: top;\n",
       "    }\n",
       "\n",
       "    .dataframe thead th {\n",
       "        text-align: right;\n",
       "    }\n",
       "</style>\n",
       "<table border=\"1\" class=\"dataframe\">\n",
       "  <thead>\n",
       "    <tr style=\"text-align: right;\">\n",
       "      <th></th>\n",
       "      <th>model</th>\n",
       "      <th>Train Mean Squared Error</th>\n",
       "      <th>Test Mean Squared Error</th>\n",
       "      <th>Train Mean Absolute Error</th>\n",
       "      <th>Test Mean Absolute Error</th>\n",
       "      <th>Train R Sqaure</th>\n",
       "      <th>Test R Sqaure</th>\n",
       "      <th>Train Adj R Sqaure</th>\n",
       "      <th>Test Adj R Sqaure</th>\n",
       "    </tr>\n",
       "  </thead>\n",
       "  <tbody>\n",
       "    <tr>\n",
       "      <th>0</th>\n",
       "      <td>Hyper-Parameter Tunning on random forest</td>\n",
       "      <td>58.15434</td>\n",
       "      <td>65.393175</td>\n",
       "      <td>5.227635</td>\n",
       "      <td>5.961082</td>\n",
       "      <td>0.763058</td>\n",
       "      <td>0.670334</td>\n",
       "      <td>0.72185</td>\n",
       "      <td>0.529049</td>\n",
       "    </tr>\n",
       "  </tbody>\n",
       "</table>\n",
       "</div>"
      ],
      "text/plain": [
       "                                      model  Train Mean Squared Error   \\\n",
       "0  Hyper-Parameter Tunning on random forest                   58.15434   \n",
       "\n",
       "   Test Mean Squared Error  Train Mean Absolute Error  \\\n",
       "0                65.393175                   5.227635   \n",
       "\n",
       "   Test Mean Absolute Error  Train R Sqaure  Test R Sqaure  \\\n",
       "0                  5.961082        0.763058       0.670334   \n",
       "\n",
       "   Train Adj R Sqaure  Test Adj R Sqaure  \n",
       "0             0.72185           0.529049  "
      ]
     },
     "execution_count": 37,
     "metadata": {},
     "output_type": "execute_result"
    }
   ],
   "source": [
    "rf_record = []\n",
    "rf_record.append({\n",
    "                    \"model\" : \"Hyper-Parameter Tunning on random forest\",\n",
    "                    \"Train Mean Squared Error \" : rf_train_mse,\n",
    "                    \"Test Mean Squared Error\" : rf_test_mse,\n",
    "                    \"Train Mean Absolute Error\" : rf_train_mae,\n",
    "                    \"Test Mean Absolute Error\" : rf_test_mae,\n",
    "                    \"Train R Sqaure\" : rf_train_r2,\n",
    "                    \"Test R Sqaure\" : rf_test_r2,\n",
    "                    \"Train Adj R Sqaure\" : rf_train_ad_r2,\n",
    "                    \"Test Adj R Sqaure\" : rf_test_ad_r2\n",
    "                    })\n",
    "\n",
    "Hypertuned_rf = pd.DataFrame(rf_record)\n",
    "Hypertuned_rf"
   ]
  },
  {
   "cell_type": "markdown",
   "id": "db323d4c",
   "metadata": {},
   "source": [
    "## Bagging Regressor\n"
   ]
  },
  {
   "cell_type": "code",
   "execution_count": 38,
   "id": "1e76a728",
   "metadata": {},
   "outputs": [
    {
     "data": {
      "text/html": [
       "<div>\n",
       "<style scoped>\n",
       "    .dataframe tbody tr th:only-of-type {\n",
       "        vertical-align: middle;\n",
       "    }\n",
       "\n",
       "    .dataframe tbody tr th {\n",
       "        vertical-align: top;\n",
       "    }\n",
       "\n",
       "    .dataframe thead th {\n",
       "        text-align: right;\n",
       "    }\n",
       "</style>\n",
       "<table border=\"1\" class=\"dataframe\">\n",
       "  <thead>\n",
       "    <tr style=\"text-align: right;\">\n",
       "      <th></th>\n",
       "      <th>model</th>\n",
       "      <th>Train Mean Squared Error</th>\n",
       "      <th>Test Mean Squared Error</th>\n",
       "      <th>Train Mean Absolute Error</th>\n",
       "      <th>Test Mean Absolute Error</th>\n",
       "      <th>Train R Sqaure</th>\n",
       "      <th>Test R Sqaure</th>\n",
       "      <th>Train Adj R Sqaure</th>\n",
       "      <th>Test Adj R Sqaure</th>\n",
       "    </tr>\n",
       "  </thead>\n",
       "  <tbody>\n",
       "    <tr>\n",
       "      <th>0</th>\n",
       "      <td>Bagging Regressor</td>\n",
       "      <td>5.481398</td>\n",
       "      <td>13.433491</td>\n",
       "      <td>1.336437</td>\n",
       "      <td>2.583076</td>\n",
       "      <td>0.977667</td>\n",
       "      <td>0.932278</td>\n",
       "      <td>0.973783</td>\n",
       "      <td>0.903254</td>\n",
       "    </tr>\n",
       "  </tbody>\n",
       "</table>\n",
       "</div>"
      ],
      "text/plain": [
       "               model  Train Mean Squared Error   Test Mean Squared Error  \\\n",
       "0  Bagging Regressor                   5.481398                13.433491   \n",
       "\n",
       "   Train Mean Absolute Error  Test Mean Absolute Error  Train R Sqaure  \\\n",
       "0                   1.336437                  2.583076        0.977667   \n",
       "\n",
       "   Test R Sqaure  Train Adj R Sqaure  Test Adj R Sqaure  \n",
       "0       0.932278            0.973783           0.903254  "
      ]
     },
     "execution_count": 38,
     "metadata": {},
     "output_type": "execute_result"
    }
   ],
   "source": [
    "report2 = []\n",
    "# Bagging using DecisionTreeRegressor\n",
    "dt_bag = BaggingRegressor(n_estimators=100)\n",
    "#If None, then the base estimator is a DecisionTreeRegressor.\n",
    "dt_bag.fit(x_train,y_train)\n",
    "\n",
    "# Make predictions\n",
    "train_pred_bag =dt_bag.predict(x_train)\n",
    "test_pred_bag = dt_bag.predict(x_test)\n",
    "\n",
    "# Training dataset performance matrix\n",
    "bag_train_mse = mean_squared_error(y_train,train_pred_bag)   # Calculate MSE\n",
    "bag_train_mae = mean_absolute_error(y_train,train_pred_bag)  # Calculate MAE\n",
    "bag_train_r2 = r2_score(y_train,train_pred_bag)              # Calculate 2 sqaure\n",
    "bag_train_ad_r2 = 1 - (1-bag_train_r2)*(len(y_train)-1) / (len(y_train)- x_train.shape[1] - 1)\n",
    "\n",
    "\n",
    "# Test Data perfomance Matrix\n",
    "bag_test_mse = mean_squared_error(y_test,test_pred_bag)   # Calculate MSE\n",
    "bag_test_mae = mean_absolute_error(y_test,test_pred_bag)  # Calculate MAE\n",
    "bag_test_r2 = r2_score(y_test,test_pred_bag)              # Calculate 2 sqaure\n",
    "bag_test_ad_r2 = 1 - (1-bag_test_r2)*(len(y_test)-1) / (len(y_test)- x_test.shape[1] - 1)\n",
    "\n",
    "# # print(\"\\n\")\n",
    "# print(\"Bagging Regressor\")\n",
    "\n",
    "# print(\"Model Performance For Training Data\")\n",
    "# print(\"-Mean Squared Error : {:4f}\".format(bag_train_mse))\n",
    "# print(\"-Mean Absolute Error : {:.4f}\".format(bag_train_mae))\n",
    "# print(\"-R Sqaure : {:.4f}\".format(bag_train_r2))\n",
    "# print(\"-Adj R Sqaure : {:.4f}\".format(bag_train_ad_r2))\n",
    "\n",
    "# print(\"-----------------------------------------------------------------------\")\n",
    "\n",
    "# print(\"Model Performance For Test Data\")\n",
    "# print(\"-Mean Squared Error : {:4f}\".format(bag_test_mse))\n",
    "# print(\"-Mean Absolute Error : {:.4f}\".format(bag_test_mae))\n",
    "# print(\"-R Sqaure : {:.4f}\".format(bag_test_r2))\n",
    "# print(\"-Adj R Sqaure : {:.4f}\".format(bag_test_ad_r2))\n",
    "\n",
    "report2.append({\n",
    "                \"model\" : 'Bagging Regressor',\n",
    "                'Train Mean Squared Error ' : bag_train_mse,\n",
    "                'Test Mean Squared Error' : bag_test_mse,\n",
    "                'Train Mean Absolute Error' : bag_train_mae,\n",
    "                'Test Mean Absolute Error' : bag_test_mae,\n",
    "                'Train R Sqaure' : bag_train_r2,\n",
    "                'Test R Sqaure' : bag_test_r2,\n",
    "                'Train Adj R Sqaure' : bag_train_ad_r2,\n",
    "                'Test Adj R Sqaure' : bag_test_ad_r2\n",
    "})\n",
    "\n",
    "Bagging_report = pd.DataFrame(report2)\n",
    "Bagging_report"
   ]
  },
  {
   "cell_type": "code",
   "execution_count": 39,
   "id": "6f818d3e",
   "metadata": {},
   "outputs": [
    {
     "data": {
      "text/html": [
       "<div>\n",
       "<style scoped>\n",
       "    .dataframe tbody tr th:only-of-type {\n",
       "        vertical-align: middle;\n",
       "    }\n",
       "\n",
       "    .dataframe tbody tr th {\n",
       "        vertical-align: top;\n",
       "    }\n",
       "\n",
       "    .dataframe thead th {\n",
       "        text-align: right;\n",
       "    }\n",
       "</style>\n",
       "<table border=\"1\" class=\"dataframe\">\n",
       "  <thead>\n",
       "    <tr style=\"text-align: right;\">\n",
       "      <th></th>\n",
       "      <th>model</th>\n",
       "      <th>Train Mean Squared Error</th>\n",
       "      <th>Test Mean Squared Error</th>\n",
       "      <th>Train Mean Absolute Error</th>\n",
       "      <th>Test Mean Absolute Error</th>\n",
       "      <th>Train R Sqaure</th>\n",
       "      <th>Test R Sqaure</th>\n",
       "      <th>Train Adj R Sqaure</th>\n",
       "      <th>Test Adj R Sqaure</th>\n",
       "    </tr>\n",
       "  </thead>\n",
       "  <tbody>\n",
       "    <tr>\n",
       "      <th>5</th>\n",
       "      <td>Random Forest Regressor</td>\n",
       "      <td>5.286852</td>\n",
       "      <td>12.357370</td>\n",
       "      <td>1.274052</td>\n",
       "      <td>2.503630</td>\n",
       "      <td>0.978459</td>\n",
       "      <td>0.937703</td>\n",
       "      <td>0.974713</td>\n",
       "      <td>0.911004</td>\n",
       "    </tr>\n",
       "    <tr>\n",
       "      <th>6</th>\n",
       "      <td>Bagging Regressor</td>\n",
       "      <td>5.481398</td>\n",
       "      <td>13.433491</td>\n",
       "      <td>1.336437</td>\n",
       "      <td>2.583076</td>\n",
       "      <td>0.977667</td>\n",
       "      <td>0.932278</td>\n",
       "      <td>0.973783</td>\n",
       "      <td>0.903254</td>\n",
       "    </tr>\n",
       "    <tr>\n",
       "      <th>4</th>\n",
       "      <td>Decision Tree Regressor</td>\n",
       "      <td>3.745101</td>\n",
       "      <td>25.186743</td>\n",
       "      <td>0.588955</td>\n",
       "      <td>3.040993</td>\n",
       "      <td>0.984741</td>\n",
       "      <td>0.873026</td>\n",
       "      <td>0.982087</td>\n",
       "      <td>0.818609</td>\n",
       "    </tr>\n",
       "    <tr>\n",
       "      <th>0</th>\n",
       "      <td>Linear Regression</td>\n",
       "      <td>56.535248</td>\n",
       "      <td>61.712820</td>\n",
       "      <td>5.349891</td>\n",
       "      <td>6.549624</td>\n",
       "      <td>0.769655</td>\n",
       "      <td>0.688888</td>\n",
       "      <td>0.729594</td>\n",
       "      <td>0.555554</td>\n",
       "    </tr>\n",
       "    <tr>\n",
       "      <th>1</th>\n",
       "      <td>Ridge Regression</td>\n",
       "      <td>60.573954</td>\n",
       "      <td>64.992363</td>\n",
       "      <td>5.593072</td>\n",
       "      <td>6.556509</td>\n",
       "      <td>0.753199</td>\n",
       "      <td>0.672355</td>\n",
       "      <td>0.710278</td>\n",
       "      <td>0.531935</td>\n",
       "    </tr>\n",
       "    <tr>\n",
       "      <th>2</th>\n",
       "      <td>Lasso Regression</td>\n",
       "      <td>86.576562</td>\n",
       "      <td>77.516049</td>\n",
       "      <td>7.507878</td>\n",
       "      <td>7.020974</td>\n",
       "      <td>0.647255</td>\n",
       "      <td>0.609219</td>\n",
       "      <td>0.585908</td>\n",
       "      <td>0.441742</td>\n",
       "    </tr>\n",
       "    <tr>\n",
       "      <th>3</th>\n",
       "      <td>Support Vector Regression</td>\n",
       "      <td>170.318258</td>\n",
       "      <td>148.574888</td>\n",
       "      <td>8.765681</td>\n",
       "      <td>8.313570</td>\n",
       "      <td>0.306061</td>\n",
       "      <td>0.250991</td>\n",
       "      <td>0.185375</td>\n",
       "      <td>-0.070013</td>\n",
       "    </tr>\n",
       "  </tbody>\n",
       "</table>\n",
       "</div>"
      ],
      "text/plain": [
       "                       model  Train Mean Squared Error   \\\n",
       "5    Random Forest Regressor                   5.286852   \n",
       "6          Bagging Regressor                   5.481398   \n",
       "4    Decision Tree Regressor                   3.745101   \n",
       "0          Linear Regression                  56.535248   \n",
       "1           Ridge Regression                  60.573954   \n",
       "2           Lasso Regression                  86.576562   \n",
       "3  Support Vector Regression                 170.318258   \n",
       "\n",
       "   Test Mean Squared Error  Train Mean Absolute Error  \\\n",
       "5                12.357370                   1.274052   \n",
       "6                13.433491                   1.336437   \n",
       "4                25.186743                   0.588955   \n",
       "0                61.712820                   5.349891   \n",
       "1                64.992363                   5.593072   \n",
       "2                77.516049                   7.507878   \n",
       "3               148.574888                   8.765681   \n",
       "\n",
       "   Test Mean Absolute Error  Train R Sqaure  Test R Sqaure  \\\n",
       "5                  2.503630        0.978459       0.937703   \n",
       "6                  2.583076        0.977667       0.932278   \n",
       "4                  3.040993        0.984741       0.873026   \n",
       "0                  6.549624        0.769655       0.688888   \n",
       "1                  6.556509        0.753199       0.672355   \n",
       "2                  7.020974        0.647255       0.609219   \n",
       "3                  8.313570        0.306061       0.250991   \n",
       "\n",
       "   Train Adj R Sqaure  Test Adj R Sqaure  \n",
       "5            0.974713           0.911004  \n",
       "6            0.973783           0.903254  \n",
       "4            0.982087           0.818609  \n",
       "0            0.729594           0.555554  \n",
       "1            0.710278           0.531935  \n",
       "2            0.585908           0.441742  \n",
       "3            0.185375          -0.070013  "
      ]
     },
     "execution_count": 39,
     "metadata": {},
     "output_type": "execute_result"
    }
   ],
   "source": [
    "frames3 = [all_model,Bagging_report]\n",
    "all_records = pd.concat(frames3) \n",
    "all_records.reset_index(inplace=True)\n",
    "all_records.drop('index',axis = 1,inplace = True)\n",
    "all_records.sort_values(by = 'Test R Sqaure',ascending=False)"
   ]
  },
  {
   "cell_type": "markdown",
   "id": "a5587fa7",
   "metadata": {},
   "source": [
    "## Hyper-parameter tunning of bagging regressor\n"
   ]
  },
  {
   "cell_type": "code",
   "execution_count": 40,
   "id": "1b6519fe",
   "metadata": {},
   "outputs": [],
   "source": [
    "bag_param = {\n",
    "            'n_estimators' : [50,100,200,500],\n",
    "            'max_samples' : range(2,5,1),\n",
    "            'max_features' : [12,11]\n",
    "}"
   ]
  },
  {
   "cell_type": "code",
   "execution_count": 41,
   "id": "4c4053ab",
   "metadata": {},
   "outputs": [],
   "source": [
    "bag_ran_search = RandomizedSearchCV(estimator=dt_bag, \n",
    "                    param_distributions= bag_param, \n",
    "                    n_iter=100,\n",
    "                    n_jobs=-1,\n",
    "                    cv = 5,\n",
    "                    verbose= 2\n",
    "                    )"
   ]
  },
  {
   "cell_type": "code",
   "execution_count": 42,
   "id": "fc101822",
   "metadata": {},
   "outputs": [
    {
     "name": "stdout",
     "output_type": "stream",
     "text": [
      "Fitting 5 folds for each of 24 candidates, totalling 120 fits\n"
     ]
    },
    {
     "data": {
      "text/plain": [
       "RandomizedSearchCV(cv=5, estimator=BaggingRegressor(n_estimators=100),\n",
       "                   n_iter=100, n_jobs=-1,\n",
       "                   param_distributions={'max_features': [12, 11],\n",
       "                                        'max_samples': range(2, 5),\n",
       "                                        'n_estimators': [50, 100, 200, 500]},\n",
       "                   verbose=2)"
      ]
     },
     "execution_count": 42,
     "metadata": {},
     "output_type": "execute_result"
    }
   ],
   "source": [
    "bag_ran_search.fit(x_train,y_train)"
   ]
  },
  {
   "cell_type": "code",
   "execution_count": 43,
   "id": "2090b464",
   "metadata": {},
   "outputs": [
    {
     "data": {
      "text/plain": [
       "({'n_estimators': 500, 'max_samples': 4, 'max_features': 11},\n",
       " BaggingRegressor(max_features=11, max_samples=4, n_estimators=500))"
      ]
     },
     "execution_count": 43,
     "metadata": {},
     "output_type": "execute_result"
    }
   ],
   "source": [
    "bag_ran_search.best_params_,bag_ran_search.best_estimator_"
   ]
  },
  {
   "cell_type": "code",
   "execution_count": 44,
   "id": "2f3c7537",
   "metadata": {},
   "outputs": [
    {
     "name": "stdout",
     "output_type": "stream",
     "text": [
      "Hyperparameter tunning of Bagging Regressor\n",
      "Model Performance For Training Data\n",
      "-Mean Squared Error : 72.735962\n",
      "-Mean Absolute Error : 6.2236\n",
      "-R Sqaure : 0.7036\n",
      "-Adj R Sqaure : 0.6521\n",
      "-----------------------------------------------------------------------\n",
      "Model Performance For Test Data\n",
      "-Mean Squared Error : 75.001283\n",
      "-Mean Absolute Error : 6.5204\n",
      "-R Sqaure : 0.6219\n",
      "-Adj R Sqaure : 0.4599\n"
     ]
    }
   ],
   "source": [
    "bag_model_hyp =  BaggingRegressor(max_features=4, max_samples=10, n_estimators=50)\n",
    "bag_model_hyp.fit(x_train,y_train)\n",
    "\n",
    "# Make predictions\n",
    "train_pred_baghyp =bag_model_hyp.predict(x_train)\n",
    "test_pred_baghyp = bag_model_hyp.predict(x_test)\n",
    "\n",
    "# Training dataset performance matrix\n",
    "baghy_train_mse = mean_squared_error(y_train,train_pred_baghyp)   # Calculate MSE\n",
    "baghy_train_mae = mean_absolute_error(y_train,train_pred_baghyp)  # Calculate MAE\n",
    "baghy_train_r2 = r2_score(y_train,train_pred_baghyp)              # Calculate 2 sqaure\n",
    "baghy_train_ad_r2 = 1 - (1-baghy_train_r2)*(len(y_train)-1) / (len(y_train)- x_train.shape[1] - 1)\n",
    "\n",
    "# Test Data perfomance Matrix\n",
    "baghy_test_mse = mean_squared_error(y_test,test_pred_baghyp)   # Calculate MSE\n",
    "baghy_test_mae = mean_absolute_error(y_test,test_pred_baghyp)  # Calculate MAE\n",
    "baghy_test_r2 = r2_score(y_test,test_pred_baghyp)              # Calculate 2 sqaure\n",
    "baghy_test_ad_r2 = 1 - (1-baghy_test_r2)*(len(y_test)-1) / (len(y_test)- x_test.shape[1] - 1)\n",
    "\n",
    "print(\"Hyperparameter tunning of Bagging Regressor\")\n",
    "\n",
    "print(\"Model Performance For Training Data\")\n",
    "print(\"-Mean Squared Error : {:4f}\".format(baghy_train_mse))\n",
    "print(\"-Mean Absolute Error : {:.4f}\".format(baghy_train_mae))\n",
    "print(\"-R Sqaure : {:.4f}\".format(baghy_train_r2))\n",
    "print(\"-Adj R Sqaure : {:.4f}\".format(baghy_train_ad_r2))\n",
    "\n",
    "print(\"-----------------------------------------------------------------------\")\n",
    "\n",
    "print(\"Model Performance For Test Data\")\n",
    "print(\"-Mean Squared Error : {:4f}\".format(baghy_test_mse))\n",
    "print(\"-Mean Absolute Error : {:.4f}\".format(baghy_test_mae))\n",
    "print(\"-R Sqaure : {:.4f}\".format(baghy_test_r2))\n",
    "print(\"-Adj R Sqaure : {:.4f}\".format(baghy_test_ad_r2))"
   ]
  },
  {
   "cell_type": "code",
   "execution_count": 45,
   "id": "ef959004",
   "metadata": {},
   "outputs": [
    {
     "data": {
      "text/html": [
       "<div>\n",
       "<style scoped>\n",
       "    .dataframe tbody tr th:only-of-type {\n",
       "        vertical-align: middle;\n",
       "    }\n",
       "\n",
       "    .dataframe tbody tr th {\n",
       "        vertical-align: top;\n",
       "    }\n",
       "\n",
       "    .dataframe thead th {\n",
       "        text-align: right;\n",
       "    }\n",
       "</style>\n",
       "<table border=\"1\" class=\"dataframe\">\n",
       "  <thead>\n",
       "    <tr style=\"text-align: right;\">\n",
       "      <th></th>\n",
       "      <th>model</th>\n",
       "      <th>Train Mean Squared Error</th>\n",
       "      <th>Test Mean Squared Error</th>\n",
       "      <th>Train Mean Absolute Error</th>\n",
       "      <th>Test Mean Absolute Error</th>\n",
       "      <th>Train R Sqaure</th>\n",
       "      <th>Test R Sqaure</th>\n",
       "      <th>Train Adj R Sqaure</th>\n",
       "      <th>Test Adj R Sqaure</th>\n",
       "    </tr>\n",
       "  </thead>\n",
       "  <tbody>\n",
       "    <tr>\n",
       "      <th>0</th>\n",
       "      <td>Hyper-Parameter Tunning on Bagging Regressor</td>\n",
       "      <td>72.735962</td>\n",
       "      <td>75.001283</td>\n",
       "      <td>6.223634</td>\n",
       "      <td>6.520389</td>\n",
       "      <td>0.703647</td>\n",
       "      <td>0.621897</td>\n",
       "      <td>0.652107</td>\n",
       "      <td>0.459853</td>\n",
       "    </tr>\n",
       "  </tbody>\n",
       "</table>\n",
       "</div>"
      ],
      "text/plain": [
       "                                          model  Train Mean Squared Error   \\\n",
       "0  Hyper-Parameter Tunning on Bagging Regressor                  72.735962   \n",
       "\n",
       "   Test Mean Squared Error  Train Mean Absolute Error  \\\n",
       "0                75.001283                   6.223634   \n",
       "\n",
       "   Test Mean Absolute Error  Train R Sqaure  Test R Sqaure  \\\n",
       "0                  6.520389        0.703647       0.621897   \n",
       "\n",
       "   Train Adj R Sqaure  Test Adj R Sqaure  \n",
       "0            0.652107           0.459853  "
      ]
     },
     "execution_count": 45,
     "metadata": {},
     "output_type": "execute_result"
    }
   ],
   "source": [
    "bag_record = []\n",
    "bag_record.append({\n",
    "                    \"model\" : \"Hyper-Parameter Tunning on Bagging Regressor\",\n",
    "                    \"Train Mean Squared Error \" : baghy_train_mse,\n",
    "                    \"Test Mean Squared Error\" : baghy_test_mse,\n",
    "                    \"Train Mean Absolute Error\" : baghy_train_mae,\n",
    "                    \"Test Mean Absolute Error\" : baghy_test_mae,\n",
    "                    \"Train R Sqaure\" : baghy_train_r2,\n",
    "                    \"Test R Sqaure\" : baghy_test_r2,\n",
    "                    \"Train Adj R Sqaure\" : baghy_train_ad_r2,\n",
    "                    \"Test Adj R Sqaure\" : baghy_test_ad_r2\n",
    "                    })\n",
    "\n",
    "Hypertuned_bag = pd.DataFrame(bag_record)\n",
    "Hypertuned_bag"
   ]
  },
  {
   "cell_type": "markdown",
   "id": "5a62173e",
   "metadata": {},
   "source": [
    "\n",
    "   "
   ]
  },
  {
   "cell_type": "markdown",
   "id": "35aeff2a",
   "metadata": {},
   "source": [
    "# Summary\n",
    "Accuracy report of all columns\n",
    "\n",
    " "
   ]
  },
  {
   "cell_type": "code",
   "execution_count": 46,
   "id": "67673dcf",
   "metadata": {},
   "outputs": [
    {
     "data": {
      "text/html": [
       "<div>\n",
       "<style scoped>\n",
       "    .dataframe tbody tr th:only-of-type {\n",
       "        vertical-align: middle;\n",
       "    }\n",
       "\n",
       "    .dataframe tbody tr th {\n",
       "        vertical-align: top;\n",
       "    }\n",
       "\n",
       "    .dataframe thead th {\n",
       "        text-align: right;\n",
       "    }\n",
       "</style>\n",
       "<table border=\"1\" class=\"dataframe\">\n",
       "  <thead>\n",
       "    <tr style=\"text-align: right;\">\n",
       "      <th></th>\n",
       "      <th>model</th>\n",
       "      <th>Train Mean Squared Error</th>\n",
       "      <th>Test Mean Squared Error</th>\n",
       "      <th>Train Mean Absolute Error</th>\n",
       "      <th>Test Mean Absolute Error</th>\n",
       "      <th>Train R Sqaure</th>\n",
       "      <th>Test R Sqaure</th>\n",
       "      <th>Train Adj R Sqaure</th>\n",
       "      <th>Test Adj R Sqaure</th>\n",
       "    </tr>\n",
       "  </thead>\n",
       "  <tbody>\n",
       "    <tr>\n",
       "      <th>5</th>\n",
       "      <td>Random Forest Regressor</td>\n",
       "      <td>5.286852</td>\n",
       "      <td>12.357370</td>\n",
       "      <td>1.274052</td>\n",
       "      <td>2.503630</td>\n",
       "      <td>0.978459</td>\n",
       "      <td>0.937703</td>\n",
       "      <td>0.974713</td>\n",
       "      <td>0.911004</td>\n",
       "    </tr>\n",
       "    <tr>\n",
       "      <th>6</th>\n",
       "      <td>Bagging Regressor</td>\n",
       "      <td>5.481398</td>\n",
       "      <td>13.433491</td>\n",
       "      <td>1.336437</td>\n",
       "      <td>2.583076</td>\n",
       "      <td>0.977667</td>\n",
       "      <td>0.932278</td>\n",
       "      <td>0.973783</td>\n",
       "      <td>0.903254</td>\n",
       "    </tr>\n",
       "    <tr>\n",
       "      <th>4</th>\n",
       "      <td>Decision Tree Regressor</td>\n",
       "      <td>3.745101</td>\n",
       "      <td>25.186743</td>\n",
       "      <td>0.588955</td>\n",
       "      <td>3.040993</td>\n",
       "      <td>0.984741</td>\n",
       "      <td>0.873026</td>\n",
       "      <td>0.982087</td>\n",
       "      <td>0.818609</td>\n",
       "    </tr>\n",
       "    <tr>\n",
       "      <th>0</th>\n",
       "      <td>Linear Regression</td>\n",
       "      <td>56.535248</td>\n",
       "      <td>61.712820</td>\n",
       "      <td>5.349891</td>\n",
       "      <td>6.549624</td>\n",
       "      <td>0.769655</td>\n",
       "      <td>0.688888</td>\n",
       "      <td>0.729594</td>\n",
       "      <td>0.555554</td>\n",
       "    </tr>\n",
       "    <tr>\n",
       "      <th>1</th>\n",
       "      <td>Ridge Regression</td>\n",
       "      <td>60.573954</td>\n",
       "      <td>64.992363</td>\n",
       "      <td>5.593072</td>\n",
       "      <td>6.556509</td>\n",
       "      <td>0.753199</td>\n",
       "      <td>0.672355</td>\n",
       "      <td>0.710278</td>\n",
       "      <td>0.531935</td>\n",
       "    </tr>\n",
       "    <tr>\n",
       "      <th>7</th>\n",
       "      <td>Hyper-Parameter Tunning on random forest</td>\n",
       "      <td>58.154340</td>\n",
       "      <td>65.393175</td>\n",
       "      <td>5.227635</td>\n",
       "      <td>5.961082</td>\n",
       "      <td>0.763058</td>\n",
       "      <td>0.670334</td>\n",
       "      <td>0.721850</td>\n",
       "      <td>0.529049</td>\n",
       "    </tr>\n",
       "    <tr>\n",
       "      <th>8</th>\n",
       "      <td>Hyper-Parameter Tunning on Bagging Regressor</td>\n",
       "      <td>72.735962</td>\n",
       "      <td>75.001283</td>\n",
       "      <td>6.223634</td>\n",
       "      <td>6.520389</td>\n",
       "      <td>0.703647</td>\n",
       "      <td>0.621897</td>\n",
       "      <td>0.652107</td>\n",
       "      <td>0.459853</td>\n",
       "    </tr>\n",
       "    <tr>\n",
       "      <th>2</th>\n",
       "      <td>Lasso Regression</td>\n",
       "      <td>86.576562</td>\n",
       "      <td>77.516049</td>\n",
       "      <td>7.507878</td>\n",
       "      <td>7.020974</td>\n",
       "      <td>0.647255</td>\n",
       "      <td>0.609219</td>\n",
       "      <td>0.585908</td>\n",
       "      <td>0.441742</td>\n",
       "    </tr>\n",
       "    <tr>\n",
       "      <th>3</th>\n",
       "      <td>Support Vector Regression</td>\n",
       "      <td>170.318258</td>\n",
       "      <td>148.574888</td>\n",
       "      <td>8.765681</td>\n",
       "      <td>8.313570</td>\n",
       "      <td>0.306061</td>\n",
       "      <td>0.250991</td>\n",
       "      <td>0.185375</td>\n",
       "      <td>-0.070013</td>\n",
       "    </tr>\n",
       "  </tbody>\n",
       "</table>\n",
       "</div>"
      ],
      "text/plain": [
       "                                          model  Train Mean Squared Error   \\\n",
       "5                       Random Forest Regressor                   5.286852   \n",
       "6                             Bagging Regressor                   5.481398   \n",
       "4                       Decision Tree Regressor                   3.745101   \n",
       "0                             Linear Regression                  56.535248   \n",
       "1                              Ridge Regression                  60.573954   \n",
       "7      Hyper-Parameter Tunning on random forest                  58.154340   \n",
       "8  Hyper-Parameter Tunning on Bagging Regressor                  72.735962   \n",
       "2                              Lasso Regression                  86.576562   \n",
       "3                     Support Vector Regression                 170.318258   \n",
       "\n",
       "   Test Mean Squared Error  Train Mean Absolute Error  \\\n",
       "5                12.357370                   1.274052   \n",
       "6                13.433491                   1.336437   \n",
       "4                25.186743                   0.588955   \n",
       "0                61.712820                   5.349891   \n",
       "1                64.992363                   5.593072   \n",
       "7                65.393175                   5.227635   \n",
       "8                75.001283                   6.223634   \n",
       "2                77.516049                   7.507878   \n",
       "3               148.574888                   8.765681   \n",
       "\n",
       "   Test Mean Absolute Error  Train R Sqaure  Test R Sqaure  \\\n",
       "5                  2.503630        0.978459       0.937703   \n",
       "6                  2.583076        0.977667       0.932278   \n",
       "4                  3.040993        0.984741       0.873026   \n",
       "0                  6.549624        0.769655       0.688888   \n",
       "1                  6.556509        0.753199       0.672355   \n",
       "7                  5.961082        0.763058       0.670334   \n",
       "8                  6.520389        0.703647       0.621897   \n",
       "2                  7.020974        0.647255       0.609219   \n",
       "3                  8.313570        0.306061       0.250991   \n",
       "\n",
       "   Train Adj R Sqaure  Test Adj R Sqaure  \n",
       "5            0.974713           0.911004  \n",
       "6            0.973783           0.903254  \n",
       "4            0.982087           0.818609  \n",
       "0            0.729594           0.555554  \n",
       "1            0.710278           0.531935  \n",
       "7            0.721850           0.529049  \n",
       "8            0.652107           0.459853  \n",
       "2            0.585908           0.441742  \n",
       "3            0.185375          -0.070013  "
      ]
     },
     "execution_count": 46,
     "metadata": {},
     "output_type": "execute_result"
    }
   ],
   "source": [
    "frames3 = [all_model,Bagging_report,Hypertuned_rf,Hypertuned_bag]\n",
    "all_records = pd.concat(frames3) \n",
    "all_records.reset_index(inplace=True)\n",
    "all_records.drop('index',axis = 1,inplace = True)\n",
    "all_records.sort_values(by = 'Test R Sqaure',ascending=False)"
   ]
  },
  {
   "cell_type": "code",
   "execution_count": null,
   "id": "6285fdc3",
   "metadata": {},
   "outputs": [],
   "source": []
  },
  {
   "cell_type": "code",
   "execution_count": null,
   "id": "15478993",
   "metadata": {},
   "outputs": [],
   "source": []
  },
  {
   "cell_type": "code",
   "execution_count": null,
   "id": "63568c66",
   "metadata": {},
   "outputs": [],
   "source": []
  },
  {
   "cell_type": "code",
   "execution_count": null,
   "id": "377706bd",
   "metadata": {},
   "outputs": [],
   "source": []
  },
  {
   "cell_type": "code",
   "execution_count": null,
   "id": "7ea2f01e",
   "metadata": {},
   "outputs": [],
   "source": []
  },
  {
   "cell_type": "code",
   "execution_count": null,
   "id": "c1bb774c",
   "metadata": {},
   "outputs": [],
   "source": []
  },
  {
   "cell_type": "code",
   "execution_count": null,
   "id": "ba4abd77",
   "metadata": {},
   "outputs": [],
   "source": []
  },
  {
   "cell_type": "code",
   "execution_count": null,
   "id": "dfc0c85d",
   "metadata": {},
   "outputs": [],
   "source": []
  },
  {
   "cell_type": "code",
   "execution_count": null,
   "id": "6992c0ea",
   "metadata": {},
   "outputs": [],
   "source": []
  },
  {
   "cell_type": "code",
   "execution_count": 38,
   "id": "674cbf6a",
   "metadata": {},
   "outputs": [
    {
     "data": {
      "text/plain": [
       "((123, 11), (123,))"
      ]
     },
     "execution_count": 38,
     "metadata": {},
     "output_type": "execute_result"
    }
   ],
   "source": [
    "x=data.drop(['CBR'],axis=1)\n",
    "y=data['CBR']\n",
    "x.shape, y.shape"
   ]
  },
  {
   "cell_type": "code",
   "execution_count": 39,
   "id": "8cdccc06",
   "metadata": {},
   "outputs": [],
   "source": [
    "from sklearn.model_selection import train_test_split \n",
    "train_x,test_x,train_y,test_y = train_test_split(x,y,random_state=56)"
   ]
  },
  {
   "cell_type": "code",
   "execution_count": 40,
   "id": "7861e3f0",
   "metadata": {},
   "outputs": [],
   "source": [
    "from sklearn.linear_model import LinearRegression as LR\n",
    "from sklearn.metrics import mean_absolute_error as mae"
   ]
  },
  {
   "cell_type": "code",
   "execution_count": 41,
   "id": "bb1b9f48",
   "metadata": {},
   "outputs": [
    {
     "data": {
      "text/plain": [
       "LinearRegression()"
      ]
     },
     "execution_count": 41,
     "metadata": {},
     "output_type": "execute_result"
    }
   ],
   "source": [
    "lr=LR()\n",
    "lr.fit(train_x,train_y)"
   ]
  },
  {
   "cell_type": "code",
   "execution_count": null,
   "id": "e75d4502",
   "metadata": {},
   "outputs": [],
   "source": []
  }
 ],
 "metadata": {
  "kernelspec": {
   "display_name": "Python 3 (ipykernel)",
   "language": "python",
   "name": "python3"
  },
  "language_info": {
   "codemirror_mode": {
    "name": "ipython",
    "version": 3
   },
   "file_extension": ".py",
   "mimetype": "text/x-python",
   "name": "python",
   "nbconvert_exporter": "python",
   "pygments_lexer": "ipython3",
   "version": "3.9.12"
  }
 },
 "nbformat": 4,
 "nbformat_minor": 5
}
